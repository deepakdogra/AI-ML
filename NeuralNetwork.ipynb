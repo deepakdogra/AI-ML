{
  "cells": [
    {
      "cell_type": "markdown",
      "metadata": {
        "id": "view-in-github",
        "colab_type": "text"
      },
      "source": [
        "<a href=\"https://colab.research.google.com/github/deepakdogra/AI-ML/blob/main/NeuralNetwork.ipynb\" target=\"_parent\"><img src=\"https://colab.research.google.com/assets/colab-badge.svg\" alt=\"Open In Colab\"/></a>"
      ]
    },
    {
      "cell_type": "code",
      "execution_count": 115,
      "metadata": {
        "id": "N_9rghP5lsSe"
      },
      "outputs": [],
      "source": [
        "import pandas as pd\n",
        "import numpy as np\n",
        "import seaborn as sns\n",
        "from sklearn.model_selection import train_test_split\n",
        "from sklearn import preprocessing\n",
        "import tensorflow as tf\n",
        "from tensorflow.keras.models import Sequential\n",
        "from tensorflow.keras import losses\n",
        "from tensorflow.keras.layers import Dense, Dropout, BatchNormalization, Activation\n",
        "from sklearn.metrics import accuracy_score,confusion_matrix, precision_score,recall_score,f1_score,precision_recall_curve,auc,roc_auc_score\n",
        "import matplotlib.pyplot as plt\n",
        "%matplotlib inline"
      ]
    },
    {
      "cell_type": "code",
      "execution_count": 116,
      "metadata": {
        "colab": {
          "base_uri": "https://localhost:8080/",
          "height": 35
        },
        "id": "ckyY3Zr-rid3",
        "outputId": "45dc683c-17d2-4820-843f-e9a0f7915d05"
      },
      "outputs": [
        {
          "output_type": "execute_result",
          "data": {
            "text/plain": [
              "'2.12.0'"
            ],
            "application/vnd.google.colaboratory.intrinsic+json": {
              "type": "string"
            }
          },
          "metadata": {},
          "execution_count": 116
        }
      ],
      "source": [
        "tf.__version__"
      ]
    },
    {
      "cell_type": "code",
      "execution_count": 117,
      "metadata": {
        "colab": {
          "base_uri": "https://localhost:8080/",
          "height": 0
        },
        "id": "SMC2pmf6sRf3",
        "outputId": "6ddb331b-95dd-47e5-b2e0-3d49979e5987"
      },
      "outputs": [
        {
          "output_type": "stream",
          "name": "stdout",
          "text": [
            "Drive already mounted at /content/drive/; to attempt to forcibly remount, call drive.mount(\"/content/drive/\", force_remount=True).\n"
          ]
        }
      ],
      "source": [
        "from google.colab import drive\n",
        "drive.mount('/content/drive/')"
      ]
    },
    {
      "cell_type": "markdown",
      "source": [
        "**Part A - Q1 A** - Read the ‘Signals.csv’ as DatFrame and import required libraries."
      ],
      "metadata": {
        "id": "o8bmiJCPgCeP"
      }
    },
    {
      "cell_type": "code",
      "execution_count": 118,
      "metadata": {
        "id": "45vqfKu-s7W0"
      },
      "outputs": [],
      "source": [
        "project_path = '/content/drive/MyDrive/Greatlearning/Neural Network/Project/'"
      ]
    },
    {
      "cell_type": "code",
      "execution_count": 119,
      "metadata": {
        "id": "Em5vNlLrsfB3"
      },
      "outputs": [],
      "source": [
        "file1 = project_path + 'Signal.csv'"
      ]
    },
    {
      "cell_type": "code",
      "execution_count": 120,
      "metadata": {
        "id": "5Do6HuQsG3Ai"
      },
      "outputs": [],
      "source": [
        "data = pd.read_csv(file1)"
      ]
    },
    {
      "cell_type": "code",
      "execution_count": 121,
      "metadata": {
        "colab": {
          "base_uri": "https://localhost:8080/",
          "height": 677
        },
        "id": "IPcTGPdeG-t9",
        "outputId": "71ef82b7-bcd3-4c79-a06d-617c69d7167b"
      },
      "outputs": [
        {
          "output_type": "execute_result",
          "data": {
            "text/plain": [
              "    Parameter 1  Parameter 2  Parameter 3  Parameter 4  Parameter 5  \\\n",
              "0           7.4        0.700         0.00          1.9        0.076   \n",
              "1           7.8        0.880         0.00          2.6        0.098   \n",
              "2           7.8        0.760         0.04          2.3        0.092   \n",
              "3          11.2        0.280         0.56          1.9        0.075   \n",
              "4           7.4        0.700         0.00          1.9        0.076   \n",
              "5           7.4        0.660         0.00          1.8        0.075   \n",
              "6           7.9        0.600         0.06          1.6        0.069   \n",
              "7           7.3        0.650         0.00          1.2        0.065   \n",
              "8           7.8        0.580         0.02          2.0        0.073   \n",
              "9           7.5        0.500         0.36          6.1        0.071   \n",
              "10          6.7        0.580         0.08          1.8        0.097   \n",
              "11          7.5        0.500         0.36          6.1        0.071   \n",
              "12          5.6        0.615         0.00          1.6        0.089   \n",
              "13          7.8        0.610         0.29          1.6        0.114   \n",
              "14          8.9        0.620         0.18          3.8        0.176   \n",
              "15          8.9        0.620         0.19          3.9        0.170   \n",
              "16          8.5        0.280         0.56          1.8        0.092   \n",
              "17          8.1        0.560         0.28          1.7        0.368   \n",
              "18          7.4        0.590         0.08          4.4        0.086   \n",
              "19          7.9        0.320         0.51          1.8        0.341   \n",
              "\n",
              "    Parameter 6  Parameter 7  Parameter 8  Parameter 9  Parameter 10  \\\n",
              "0          11.0         34.0       0.9978         3.51          0.56   \n",
              "1          25.0         67.0       0.9968         3.20          0.68   \n",
              "2          15.0         54.0       0.9970         3.26          0.65   \n",
              "3          17.0         60.0       0.9980         3.16          0.58   \n",
              "4          11.0         34.0       0.9978         3.51          0.56   \n",
              "5          13.0         40.0       0.9978         3.51          0.56   \n",
              "6          15.0         59.0       0.9964         3.30          0.46   \n",
              "7          15.0         21.0       0.9946         3.39          0.47   \n",
              "8           9.0         18.0       0.9968         3.36          0.57   \n",
              "9          17.0        102.0       0.9978         3.35          0.80   \n",
              "10         15.0         65.0       0.9959         3.28          0.54   \n",
              "11         17.0        102.0       0.9978         3.35          0.80   \n",
              "12         16.0         59.0       0.9943         3.58          0.52   \n",
              "13          9.0         29.0       0.9974         3.26          1.56   \n",
              "14         52.0        145.0       0.9986         3.16          0.88   \n",
              "15         51.0        148.0       0.9986         3.17          0.93   \n",
              "16         35.0        103.0       0.9969         3.30          0.75   \n",
              "17         16.0         56.0       0.9968         3.11          1.28   \n",
              "18          6.0         29.0       0.9974         3.38          0.50   \n",
              "19         17.0         56.0       0.9969         3.04          1.08   \n",
              "\n",
              "    Parameter 11  Signal_Strength  \n",
              "0            9.4                5  \n",
              "1            9.8                5  \n",
              "2            9.8                5  \n",
              "3            9.8                6  \n",
              "4            9.4                5  \n",
              "5            9.4                5  \n",
              "6            9.4                5  \n",
              "7           10.0                7  \n",
              "8            9.5                7  \n",
              "9           10.5                5  \n",
              "10           9.2                5  \n",
              "11          10.5                5  \n",
              "12           9.9                5  \n",
              "13           9.1                5  \n",
              "14           9.2                5  \n",
              "15           9.2                5  \n",
              "16          10.5                7  \n",
              "17           9.3                5  \n",
              "18           9.0                4  \n",
              "19           9.2                6  "
            ],
            "text/html": [
              "\n",
              "  <div id=\"df-626bb7b8-0803-43e5-b2c0-8fea781702f7\">\n",
              "    <div class=\"colab-df-container\">\n",
              "      <div>\n",
              "<style scoped>\n",
              "    .dataframe tbody tr th:only-of-type {\n",
              "        vertical-align: middle;\n",
              "    }\n",
              "\n",
              "    .dataframe tbody tr th {\n",
              "        vertical-align: top;\n",
              "    }\n",
              "\n",
              "    .dataframe thead th {\n",
              "        text-align: right;\n",
              "    }\n",
              "</style>\n",
              "<table border=\"1\" class=\"dataframe\">\n",
              "  <thead>\n",
              "    <tr style=\"text-align: right;\">\n",
              "      <th></th>\n",
              "      <th>Parameter 1</th>\n",
              "      <th>Parameter 2</th>\n",
              "      <th>Parameter 3</th>\n",
              "      <th>Parameter 4</th>\n",
              "      <th>Parameter 5</th>\n",
              "      <th>Parameter 6</th>\n",
              "      <th>Parameter 7</th>\n",
              "      <th>Parameter 8</th>\n",
              "      <th>Parameter 9</th>\n",
              "      <th>Parameter 10</th>\n",
              "      <th>Parameter 11</th>\n",
              "      <th>Signal_Strength</th>\n",
              "    </tr>\n",
              "  </thead>\n",
              "  <tbody>\n",
              "    <tr>\n",
              "      <th>0</th>\n",
              "      <td>7.4</td>\n",
              "      <td>0.700</td>\n",
              "      <td>0.00</td>\n",
              "      <td>1.9</td>\n",
              "      <td>0.076</td>\n",
              "      <td>11.0</td>\n",
              "      <td>34.0</td>\n",
              "      <td>0.9978</td>\n",
              "      <td>3.51</td>\n",
              "      <td>0.56</td>\n",
              "      <td>9.4</td>\n",
              "      <td>5</td>\n",
              "    </tr>\n",
              "    <tr>\n",
              "      <th>1</th>\n",
              "      <td>7.8</td>\n",
              "      <td>0.880</td>\n",
              "      <td>0.00</td>\n",
              "      <td>2.6</td>\n",
              "      <td>0.098</td>\n",
              "      <td>25.0</td>\n",
              "      <td>67.0</td>\n",
              "      <td>0.9968</td>\n",
              "      <td>3.20</td>\n",
              "      <td>0.68</td>\n",
              "      <td>9.8</td>\n",
              "      <td>5</td>\n",
              "    </tr>\n",
              "    <tr>\n",
              "      <th>2</th>\n",
              "      <td>7.8</td>\n",
              "      <td>0.760</td>\n",
              "      <td>0.04</td>\n",
              "      <td>2.3</td>\n",
              "      <td>0.092</td>\n",
              "      <td>15.0</td>\n",
              "      <td>54.0</td>\n",
              "      <td>0.9970</td>\n",
              "      <td>3.26</td>\n",
              "      <td>0.65</td>\n",
              "      <td>9.8</td>\n",
              "      <td>5</td>\n",
              "    </tr>\n",
              "    <tr>\n",
              "      <th>3</th>\n",
              "      <td>11.2</td>\n",
              "      <td>0.280</td>\n",
              "      <td>0.56</td>\n",
              "      <td>1.9</td>\n",
              "      <td>0.075</td>\n",
              "      <td>17.0</td>\n",
              "      <td>60.0</td>\n",
              "      <td>0.9980</td>\n",
              "      <td>3.16</td>\n",
              "      <td>0.58</td>\n",
              "      <td>9.8</td>\n",
              "      <td>6</td>\n",
              "    </tr>\n",
              "    <tr>\n",
              "      <th>4</th>\n",
              "      <td>7.4</td>\n",
              "      <td>0.700</td>\n",
              "      <td>0.00</td>\n",
              "      <td>1.9</td>\n",
              "      <td>0.076</td>\n",
              "      <td>11.0</td>\n",
              "      <td>34.0</td>\n",
              "      <td>0.9978</td>\n",
              "      <td>3.51</td>\n",
              "      <td>0.56</td>\n",
              "      <td>9.4</td>\n",
              "      <td>5</td>\n",
              "    </tr>\n",
              "    <tr>\n",
              "      <th>5</th>\n",
              "      <td>7.4</td>\n",
              "      <td>0.660</td>\n",
              "      <td>0.00</td>\n",
              "      <td>1.8</td>\n",
              "      <td>0.075</td>\n",
              "      <td>13.0</td>\n",
              "      <td>40.0</td>\n",
              "      <td>0.9978</td>\n",
              "      <td>3.51</td>\n",
              "      <td>0.56</td>\n",
              "      <td>9.4</td>\n",
              "      <td>5</td>\n",
              "    </tr>\n",
              "    <tr>\n",
              "      <th>6</th>\n",
              "      <td>7.9</td>\n",
              "      <td>0.600</td>\n",
              "      <td>0.06</td>\n",
              "      <td>1.6</td>\n",
              "      <td>0.069</td>\n",
              "      <td>15.0</td>\n",
              "      <td>59.0</td>\n",
              "      <td>0.9964</td>\n",
              "      <td>3.30</td>\n",
              "      <td>0.46</td>\n",
              "      <td>9.4</td>\n",
              "      <td>5</td>\n",
              "    </tr>\n",
              "    <tr>\n",
              "      <th>7</th>\n",
              "      <td>7.3</td>\n",
              "      <td>0.650</td>\n",
              "      <td>0.00</td>\n",
              "      <td>1.2</td>\n",
              "      <td>0.065</td>\n",
              "      <td>15.0</td>\n",
              "      <td>21.0</td>\n",
              "      <td>0.9946</td>\n",
              "      <td>3.39</td>\n",
              "      <td>0.47</td>\n",
              "      <td>10.0</td>\n",
              "      <td>7</td>\n",
              "    </tr>\n",
              "    <tr>\n",
              "      <th>8</th>\n",
              "      <td>7.8</td>\n",
              "      <td>0.580</td>\n",
              "      <td>0.02</td>\n",
              "      <td>2.0</td>\n",
              "      <td>0.073</td>\n",
              "      <td>9.0</td>\n",
              "      <td>18.0</td>\n",
              "      <td>0.9968</td>\n",
              "      <td>3.36</td>\n",
              "      <td>0.57</td>\n",
              "      <td>9.5</td>\n",
              "      <td>7</td>\n",
              "    </tr>\n",
              "    <tr>\n",
              "      <th>9</th>\n",
              "      <td>7.5</td>\n",
              "      <td>0.500</td>\n",
              "      <td>0.36</td>\n",
              "      <td>6.1</td>\n",
              "      <td>0.071</td>\n",
              "      <td>17.0</td>\n",
              "      <td>102.0</td>\n",
              "      <td>0.9978</td>\n",
              "      <td>3.35</td>\n",
              "      <td>0.80</td>\n",
              "      <td>10.5</td>\n",
              "      <td>5</td>\n",
              "    </tr>\n",
              "    <tr>\n",
              "      <th>10</th>\n",
              "      <td>6.7</td>\n",
              "      <td>0.580</td>\n",
              "      <td>0.08</td>\n",
              "      <td>1.8</td>\n",
              "      <td>0.097</td>\n",
              "      <td>15.0</td>\n",
              "      <td>65.0</td>\n",
              "      <td>0.9959</td>\n",
              "      <td>3.28</td>\n",
              "      <td>0.54</td>\n",
              "      <td>9.2</td>\n",
              "      <td>5</td>\n",
              "    </tr>\n",
              "    <tr>\n",
              "      <th>11</th>\n",
              "      <td>7.5</td>\n",
              "      <td>0.500</td>\n",
              "      <td>0.36</td>\n",
              "      <td>6.1</td>\n",
              "      <td>0.071</td>\n",
              "      <td>17.0</td>\n",
              "      <td>102.0</td>\n",
              "      <td>0.9978</td>\n",
              "      <td>3.35</td>\n",
              "      <td>0.80</td>\n",
              "      <td>10.5</td>\n",
              "      <td>5</td>\n",
              "    </tr>\n",
              "    <tr>\n",
              "      <th>12</th>\n",
              "      <td>5.6</td>\n",
              "      <td>0.615</td>\n",
              "      <td>0.00</td>\n",
              "      <td>1.6</td>\n",
              "      <td>0.089</td>\n",
              "      <td>16.0</td>\n",
              "      <td>59.0</td>\n",
              "      <td>0.9943</td>\n",
              "      <td>3.58</td>\n",
              "      <td>0.52</td>\n",
              "      <td>9.9</td>\n",
              "      <td>5</td>\n",
              "    </tr>\n",
              "    <tr>\n",
              "      <th>13</th>\n",
              "      <td>7.8</td>\n",
              "      <td>0.610</td>\n",
              "      <td>0.29</td>\n",
              "      <td>1.6</td>\n",
              "      <td>0.114</td>\n",
              "      <td>9.0</td>\n",
              "      <td>29.0</td>\n",
              "      <td>0.9974</td>\n",
              "      <td>3.26</td>\n",
              "      <td>1.56</td>\n",
              "      <td>9.1</td>\n",
              "      <td>5</td>\n",
              "    </tr>\n",
              "    <tr>\n",
              "      <th>14</th>\n",
              "      <td>8.9</td>\n",
              "      <td>0.620</td>\n",
              "      <td>0.18</td>\n",
              "      <td>3.8</td>\n",
              "      <td>0.176</td>\n",
              "      <td>52.0</td>\n",
              "      <td>145.0</td>\n",
              "      <td>0.9986</td>\n",
              "      <td>3.16</td>\n",
              "      <td>0.88</td>\n",
              "      <td>9.2</td>\n",
              "      <td>5</td>\n",
              "    </tr>\n",
              "    <tr>\n",
              "      <th>15</th>\n",
              "      <td>8.9</td>\n",
              "      <td>0.620</td>\n",
              "      <td>0.19</td>\n",
              "      <td>3.9</td>\n",
              "      <td>0.170</td>\n",
              "      <td>51.0</td>\n",
              "      <td>148.0</td>\n",
              "      <td>0.9986</td>\n",
              "      <td>3.17</td>\n",
              "      <td>0.93</td>\n",
              "      <td>9.2</td>\n",
              "      <td>5</td>\n",
              "    </tr>\n",
              "    <tr>\n",
              "      <th>16</th>\n",
              "      <td>8.5</td>\n",
              "      <td>0.280</td>\n",
              "      <td>0.56</td>\n",
              "      <td>1.8</td>\n",
              "      <td>0.092</td>\n",
              "      <td>35.0</td>\n",
              "      <td>103.0</td>\n",
              "      <td>0.9969</td>\n",
              "      <td>3.30</td>\n",
              "      <td>0.75</td>\n",
              "      <td>10.5</td>\n",
              "      <td>7</td>\n",
              "    </tr>\n",
              "    <tr>\n",
              "      <th>17</th>\n",
              "      <td>8.1</td>\n",
              "      <td>0.560</td>\n",
              "      <td>0.28</td>\n",
              "      <td>1.7</td>\n",
              "      <td>0.368</td>\n",
              "      <td>16.0</td>\n",
              "      <td>56.0</td>\n",
              "      <td>0.9968</td>\n",
              "      <td>3.11</td>\n",
              "      <td>1.28</td>\n",
              "      <td>9.3</td>\n",
              "      <td>5</td>\n",
              "    </tr>\n",
              "    <tr>\n",
              "      <th>18</th>\n",
              "      <td>7.4</td>\n",
              "      <td>0.590</td>\n",
              "      <td>0.08</td>\n",
              "      <td>4.4</td>\n",
              "      <td>0.086</td>\n",
              "      <td>6.0</td>\n",
              "      <td>29.0</td>\n",
              "      <td>0.9974</td>\n",
              "      <td>3.38</td>\n",
              "      <td>0.50</td>\n",
              "      <td>9.0</td>\n",
              "      <td>4</td>\n",
              "    </tr>\n",
              "    <tr>\n",
              "      <th>19</th>\n",
              "      <td>7.9</td>\n",
              "      <td>0.320</td>\n",
              "      <td>0.51</td>\n",
              "      <td>1.8</td>\n",
              "      <td>0.341</td>\n",
              "      <td>17.0</td>\n",
              "      <td>56.0</td>\n",
              "      <td>0.9969</td>\n",
              "      <td>3.04</td>\n",
              "      <td>1.08</td>\n",
              "      <td>9.2</td>\n",
              "      <td>6</td>\n",
              "    </tr>\n",
              "  </tbody>\n",
              "</table>\n",
              "</div>\n",
              "      <button class=\"colab-df-convert\" onclick=\"convertToInteractive('df-626bb7b8-0803-43e5-b2c0-8fea781702f7')\"\n",
              "              title=\"Convert this dataframe to an interactive table.\"\n",
              "              style=\"display:none;\">\n",
              "        \n",
              "  <svg xmlns=\"http://www.w3.org/2000/svg\" height=\"24px\"viewBox=\"0 0 24 24\"\n",
              "       width=\"24px\">\n",
              "    <path d=\"M0 0h24v24H0V0z\" fill=\"none\"/>\n",
              "    <path d=\"M18.56 5.44l.94 2.06.94-2.06 2.06-.94-2.06-.94-.94-2.06-.94 2.06-2.06.94zm-11 1L8.5 8.5l.94-2.06 2.06-.94-2.06-.94L8.5 2.5l-.94 2.06-2.06.94zm10 10l.94 2.06.94-2.06 2.06-.94-2.06-.94-.94-2.06-.94 2.06-2.06.94z\"/><path d=\"M17.41 7.96l-1.37-1.37c-.4-.4-.92-.59-1.43-.59-.52 0-1.04.2-1.43.59L10.3 9.45l-7.72 7.72c-.78.78-.78 2.05 0 2.83L4 21.41c.39.39.9.59 1.41.59.51 0 1.02-.2 1.41-.59l7.78-7.78 2.81-2.81c.8-.78.8-2.07 0-2.86zM5.41 20L4 18.59l7.72-7.72 1.47 1.35L5.41 20z\"/>\n",
              "  </svg>\n",
              "      </button>\n",
              "      \n",
              "  <style>\n",
              "    .colab-df-container {\n",
              "      display:flex;\n",
              "      flex-wrap:wrap;\n",
              "      gap: 12px;\n",
              "    }\n",
              "\n",
              "    .colab-df-convert {\n",
              "      background-color: #E8F0FE;\n",
              "      border: none;\n",
              "      border-radius: 50%;\n",
              "      cursor: pointer;\n",
              "      display: none;\n",
              "      fill: #1967D2;\n",
              "      height: 32px;\n",
              "      padding: 0 0 0 0;\n",
              "      width: 32px;\n",
              "    }\n",
              "\n",
              "    .colab-df-convert:hover {\n",
              "      background-color: #E2EBFA;\n",
              "      box-shadow: 0px 1px 2px rgba(60, 64, 67, 0.3), 0px 1px 3px 1px rgba(60, 64, 67, 0.15);\n",
              "      fill: #174EA6;\n",
              "    }\n",
              "\n",
              "    [theme=dark] .colab-df-convert {\n",
              "      background-color: #3B4455;\n",
              "      fill: #D2E3FC;\n",
              "    }\n",
              "\n",
              "    [theme=dark] .colab-df-convert:hover {\n",
              "      background-color: #434B5C;\n",
              "      box-shadow: 0px 1px 3px 1px rgba(0, 0, 0, 0.15);\n",
              "      filter: drop-shadow(0px 1px 2px rgba(0, 0, 0, 0.3));\n",
              "      fill: #FFFFFF;\n",
              "    }\n",
              "  </style>\n",
              "\n",
              "      <script>\n",
              "        const buttonEl =\n",
              "          document.querySelector('#df-626bb7b8-0803-43e5-b2c0-8fea781702f7 button.colab-df-convert');\n",
              "        buttonEl.style.display =\n",
              "          google.colab.kernel.accessAllowed ? 'block' : 'none';\n",
              "\n",
              "        async function convertToInteractive(key) {\n",
              "          const element = document.querySelector('#df-626bb7b8-0803-43e5-b2c0-8fea781702f7');\n",
              "          const dataTable =\n",
              "            await google.colab.kernel.invokeFunction('convertToInteractive',\n",
              "                                                     [key], {});\n",
              "          if (!dataTable) return;\n",
              "\n",
              "          const docLinkHtml = 'Like what you see? Visit the ' +\n",
              "            '<a target=\"_blank\" href=https://colab.research.google.com/notebooks/data_table.ipynb>data table notebook</a>'\n",
              "            + ' to learn more about interactive tables.';\n",
              "          element.innerHTML = '';\n",
              "          dataTable['output_type'] = 'display_data';\n",
              "          await google.colab.output.renderOutput(dataTable, element);\n",
              "          const docLink = document.createElement('div');\n",
              "          docLink.innerHTML = docLinkHtml;\n",
              "          element.appendChild(docLink);\n",
              "        }\n",
              "      </script>\n",
              "    </div>\n",
              "  </div>\n",
              "  "
            ]
          },
          "metadata": {},
          "execution_count": 121
        }
      ],
      "source": [
        "data.head(20)"
      ]
    },
    {
      "cell_type": "code",
      "execution_count": 122,
      "metadata": {
        "colab": {
          "base_uri": "https://localhost:8080/",
          "height": 0
        },
        "id": "6d_8CKOFJsrq",
        "outputId": "c35bdd1b-8ee0-424d-cde6-fe9e450c9410"
      },
      "outputs": [
        {
          "output_type": "stream",
          "name": "stdout",
          "text": [
            "<class 'pandas.core.frame.DataFrame'>\n",
            "RangeIndex: 1599 entries, 0 to 1598\n",
            "Data columns (total 12 columns):\n",
            " #   Column           Non-Null Count  Dtype  \n",
            "---  ------           --------------  -----  \n",
            " 0   Parameter 1      1599 non-null   float64\n",
            " 1   Parameter 2      1599 non-null   float64\n",
            " 2   Parameter 3      1599 non-null   float64\n",
            " 3   Parameter 4      1599 non-null   float64\n",
            " 4   Parameter 5      1599 non-null   float64\n",
            " 5   Parameter 6      1599 non-null   float64\n",
            " 6   Parameter 7      1599 non-null   float64\n",
            " 7   Parameter 8      1599 non-null   float64\n",
            " 8   Parameter 9      1599 non-null   float64\n",
            " 9   Parameter 10     1599 non-null   float64\n",
            " 10  Parameter 11     1599 non-null   float64\n",
            " 11  Signal_Strength  1599 non-null   int64  \n",
            "dtypes: float64(11), int64(1)\n",
            "memory usage: 150.0 KB\n"
          ]
        }
      ],
      "source": [
        "data.info()"
      ]
    },
    {
      "cell_type": "code",
      "execution_count": 123,
      "metadata": {
        "colab": {
          "base_uri": "https://localhost:8080/",
          "height": 300
        },
        "id": "YcW6ZclWD1_I",
        "outputId": "60ccef33-ff81-47fe-83c9-e05586d2ca8d"
      },
      "outputs": [
        {
          "output_type": "execute_result",
          "data": {
            "text/plain": [
              "       Parameter 1  Parameter 2  Parameter 3  Parameter 4  Parameter 5  \\\n",
              "count  1599.000000  1599.000000  1599.000000  1599.000000  1599.000000   \n",
              "mean      8.319637     0.527821     0.270976     2.538806     0.087467   \n",
              "std       1.741096     0.179060     0.194801     1.409928     0.047065   \n",
              "min       4.600000     0.120000     0.000000     0.900000     0.012000   \n",
              "25%       7.100000     0.390000     0.090000     1.900000     0.070000   \n",
              "50%       7.900000     0.520000     0.260000     2.200000     0.079000   \n",
              "75%       9.200000     0.640000     0.420000     2.600000     0.090000   \n",
              "max      15.900000     1.580000     1.000000    15.500000     0.611000   \n",
              "\n",
              "       Parameter 6  Parameter 7  Parameter 8  Parameter 9  Parameter 10  \\\n",
              "count  1599.000000  1599.000000  1599.000000  1599.000000   1599.000000   \n",
              "mean     15.874922    46.467792     0.996747     3.311113      0.658149   \n",
              "std      10.460157    32.895324     0.001887     0.154386      0.169507   \n",
              "min       1.000000     6.000000     0.990070     2.740000      0.330000   \n",
              "25%       7.000000    22.000000     0.995600     3.210000      0.550000   \n",
              "50%      14.000000    38.000000     0.996750     3.310000      0.620000   \n",
              "75%      21.000000    62.000000     0.997835     3.400000      0.730000   \n",
              "max      72.000000   289.000000     1.003690     4.010000      2.000000   \n",
              "\n",
              "       Parameter 11  Signal_Strength  \n",
              "count   1599.000000      1599.000000  \n",
              "mean      10.422983         5.636023  \n",
              "std        1.065668         0.807569  \n",
              "min        8.400000         3.000000  \n",
              "25%        9.500000         5.000000  \n",
              "50%       10.200000         6.000000  \n",
              "75%       11.100000         6.000000  \n",
              "max       14.900000         8.000000  "
            ],
            "text/html": [
              "\n",
              "  <div id=\"df-a3efeaad-7dca-47c4-9420-eced460f9001\">\n",
              "    <div class=\"colab-df-container\">\n",
              "      <div>\n",
              "<style scoped>\n",
              "    .dataframe tbody tr th:only-of-type {\n",
              "        vertical-align: middle;\n",
              "    }\n",
              "\n",
              "    .dataframe tbody tr th {\n",
              "        vertical-align: top;\n",
              "    }\n",
              "\n",
              "    .dataframe thead th {\n",
              "        text-align: right;\n",
              "    }\n",
              "</style>\n",
              "<table border=\"1\" class=\"dataframe\">\n",
              "  <thead>\n",
              "    <tr style=\"text-align: right;\">\n",
              "      <th></th>\n",
              "      <th>Parameter 1</th>\n",
              "      <th>Parameter 2</th>\n",
              "      <th>Parameter 3</th>\n",
              "      <th>Parameter 4</th>\n",
              "      <th>Parameter 5</th>\n",
              "      <th>Parameter 6</th>\n",
              "      <th>Parameter 7</th>\n",
              "      <th>Parameter 8</th>\n",
              "      <th>Parameter 9</th>\n",
              "      <th>Parameter 10</th>\n",
              "      <th>Parameter 11</th>\n",
              "      <th>Signal_Strength</th>\n",
              "    </tr>\n",
              "  </thead>\n",
              "  <tbody>\n",
              "    <tr>\n",
              "      <th>count</th>\n",
              "      <td>1599.000000</td>\n",
              "      <td>1599.000000</td>\n",
              "      <td>1599.000000</td>\n",
              "      <td>1599.000000</td>\n",
              "      <td>1599.000000</td>\n",
              "      <td>1599.000000</td>\n",
              "      <td>1599.000000</td>\n",
              "      <td>1599.000000</td>\n",
              "      <td>1599.000000</td>\n",
              "      <td>1599.000000</td>\n",
              "      <td>1599.000000</td>\n",
              "      <td>1599.000000</td>\n",
              "    </tr>\n",
              "    <tr>\n",
              "      <th>mean</th>\n",
              "      <td>8.319637</td>\n",
              "      <td>0.527821</td>\n",
              "      <td>0.270976</td>\n",
              "      <td>2.538806</td>\n",
              "      <td>0.087467</td>\n",
              "      <td>15.874922</td>\n",
              "      <td>46.467792</td>\n",
              "      <td>0.996747</td>\n",
              "      <td>3.311113</td>\n",
              "      <td>0.658149</td>\n",
              "      <td>10.422983</td>\n",
              "      <td>5.636023</td>\n",
              "    </tr>\n",
              "    <tr>\n",
              "      <th>std</th>\n",
              "      <td>1.741096</td>\n",
              "      <td>0.179060</td>\n",
              "      <td>0.194801</td>\n",
              "      <td>1.409928</td>\n",
              "      <td>0.047065</td>\n",
              "      <td>10.460157</td>\n",
              "      <td>32.895324</td>\n",
              "      <td>0.001887</td>\n",
              "      <td>0.154386</td>\n",
              "      <td>0.169507</td>\n",
              "      <td>1.065668</td>\n",
              "      <td>0.807569</td>\n",
              "    </tr>\n",
              "    <tr>\n",
              "      <th>min</th>\n",
              "      <td>4.600000</td>\n",
              "      <td>0.120000</td>\n",
              "      <td>0.000000</td>\n",
              "      <td>0.900000</td>\n",
              "      <td>0.012000</td>\n",
              "      <td>1.000000</td>\n",
              "      <td>6.000000</td>\n",
              "      <td>0.990070</td>\n",
              "      <td>2.740000</td>\n",
              "      <td>0.330000</td>\n",
              "      <td>8.400000</td>\n",
              "      <td>3.000000</td>\n",
              "    </tr>\n",
              "    <tr>\n",
              "      <th>25%</th>\n",
              "      <td>7.100000</td>\n",
              "      <td>0.390000</td>\n",
              "      <td>0.090000</td>\n",
              "      <td>1.900000</td>\n",
              "      <td>0.070000</td>\n",
              "      <td>7.000000</td>\n",
              "      <td>22.000000</td>\n",
              "      <td>0.995600</td>\n",
              "      <td>3.210000</td>\n",
              "      <td>0.550000</td>\n",
              "      <td>9.500000</td>\n",
              "      <td>5.000000</td>\n",
              "    </tr>\n",
              "    <tr>\n",
              "      <th>50%</th>\n",
              "      <td>7.900000</td>\n",
              "      <td>0.520000</td>\n",
              "      <td>0.260000</td>\n",
              "      <td>2.200000</td>\n",
              "      <td>0.079000</td>\n",
              "      <td>14.000000</td>\n",
              "      <td>38.000000</td>\n",
              "      <td>0.996750</td>\n",
              "      <td>3.310000</td>\n",
              "      <td>0.620000</td>\n",
              "      <td>10.200000</td>\n",
              "      <td>6.000000</td>\n",
              "    </tr>\n",
              "    <tr>\n",
              "      <th>75%</th>\n",
              "      <td>9.200000</td>\n",
              "      <td>0.640000</td>\n",
              "      <td>0.420000</td>\n",
              "      <td>2.600000</td>\n",
              "      <td>0.090000</td>\n",
              "      <td>21.000000</td>\n",
              "      <td>62.000000</td>\n",
              "      <td>0.997835</td>\n",
              "      <td>3.400000</td>\n",
              "      <td>0.730000</td>\n",
              "      <td>11.100000</td>\n",
              "      <td>6.000000</td>\n",
              "    </tr>\n",
              "    <tr>\n",
              "      <th>max</th>\n",
              "      <td>15.900000</td>\n",
              "      <td>1.580000</td>\n",
              "      <td>1.000000</td>\n",
              "      <td>15.500000</td>\n",
              "      <td>0.611000</td>\n",
              "      <td>72.000000</td>\n",
              "      <td>289.000000</td>\n",
              "      <td>1.003690</td>\n",
              "      <td>4.010000</td>\n",
              "      <td>2.000000</td>\n",
              "      <td>14.900000</td>\n",
              "      <td>8.000000</td>\n",
              "    </tr>\n",
              "  </tbody>\n",
              "</table>\n",
              "</div>\n",
              "      <button class=\"colab-df-convert\" onclick=\"convertToInteractive('df-a3efeaad-7dca-47c4-9420-eced460f9001')\"\n",
              "              title=\"Convert this dataframe to an interactive table.\"\n",
              "              style=\"display:none;\">\n",
              "        \n",
              "  <svg xmlns=\"http://www.w3.org/2000/svg\" height=\"24px\"viewBox=\"0 0 24 24\"\n",
              "       width=\"24px\">\n",
              "    <path d=\"M0 0h24v24H0V0z\" fill=\"none\"/>\n",
              "    <path d=\"M18.56 5.44l.94 2.06.94-2.06 2.06-.94-2.06-.94-.94-2.06-.94 2.06-2.06.94zm-11 1L8.5 8.5l.94-2.06 2.06-.94-2.06-.94L8.5 2.5l-.94 2.06-2.06.94zm10 10l.94 2.06.94-2.06 2.06-.94-2.06-.94-.94-2.06-.94 2.06-2.06.94z\"/><path d=\"M17.41 7.96l-1.37-1.37c-.4-.4-.92-.59-1.43-.59-.52 0-1.04.2-1.43.59L10.3 9.45l-7.72 7.72c-.78.78-.78 2.05 0 2.83L4 21.41c.39.39.9.59 1.41.59.51 0 1.02-.2 1.41-.59l7.78-7.78 2.81-2.81c.8-.78.8-2.07 0-2.86zM5.41 20L4 18.59l7.72-7.72 1.47 1.35L5.41 20z\"/>\n",
              "  </svg>\n",
              "      </button>\n",
              "      \n",
              "  <style>\n",
              "    .colab-df-container {\n",
              "      display:flex;\n",
              "      flex-wrap:wrap;\n",
              "      gap: 12px;\n",
              "    }\n",
              "\n",
              "    .colab-df-convert {\n",
              "      background-color: #E8F0FE;\n",
              "      border: none;\n",
              "      border-radius: 50%;\n",
              "      cursor: pointer;\n",
              "      display: none;\n",
              "      fill: #1967D2;\n",
              "      height: 32px;\n",
              "      padding: 0 0 0 0;\n",
              "      width: 32px;\n",
              "    }\n",
              "\n",
              "    .colab-df-convert:hover {\n",
              "      background-color: #E2EBFA;\n",
              "      box-shadow: 0px 1px 2px rgba(60, 64, 67, 0.3), 0px 1px 3px 1px rgba(60, 64, 67, 0.15);\n",
              "      fill: #174EA6;\n",
              "    }\n",
              "\n",
              "    [theme=dark] .colab-df-convert {\n",
              "      background-color: #3B4455;\n",
              "      fill: #D2E3FC;\n",
              "    }\n",
              "\n",
              "    [theme=dark] .colab-df-convert:hover {\n",
              "      background-color: #434B5C;\n",
              "      box-shadow: 0px 1px 3px 1px rgba(0, 0, 0, 0.15);\n",
              "      filter: drop-shadow(0px 1px 2px rgba(0, 0, 0, 0.3));\n",
              "      fill: #FFFFFF;\n",
              "    }\n",
              "  </style>\n",
              "\n",
              "      <script>\n",
              "        const buttonEl =\n",
              "          document.querySelector('#df-a3efeaad-7dca-47c4-9420-eced460f9001 button.colab-df-convert');\n",
              "        buttonEl.style.display =\n",
              "          google.colab.kernel.accessAllowed ? 'block' : 'none';\n",
              "\n",
              "        async function convertToInteractive(key) {\n",
              "          const element = document.querySelector('#df-a3efeaad-7dca-47c4-9420-eced460f9001');\n",
              "          const dataTable =\n",
              "            await google.colab.kernel.invokeFunction('convertToInteractive',\n",
              "                                                     [key], {});\n",
              "          if (!dataTable) return;\n",
              "\n",
              "          const docLinkHtml = 'Like what you see? Visit the ' +\n",
              "            '<a target=\"_blank\" href=https://colab.research.google.com/notebooks/data_table.ipynb>data table notebook</a>'\n",
              "            + ' to learn more about interactive tables.';\n",
              "          element.innerHTML = '';\n",
              "          dataTable['output_type'] = 'display_data';\n",
              "          await google.colab.output.renderOutput(dataTable, element);\n",
              "          const docLink = document.createElement('div');\n",
              "          docLink.innerHTML = docLinkHtml;\n",
              "          element.appendChild(docLink);\n",
              "        }\n",
              "      </script>\n",
              "    </div>\n",
              "  </div>\n",
              "  "
            ]
          },
          "metadata": {},
          "execution_count": 123
        }
      ],
      "source": [
        "data.describe()"
      ]
    },
    {
      "cell_type": "code",
      "execution_count": 124,
      "metadata": {
        "colab": {
          "base_uri": "https://localhost:8080/",
          "height": 0
        },
        "id": "TfXO7jBJHO5K",
        "outputId": "bb76c6b9-5b16-45da-8cd5-92d5029e299e"
      },
      "outputs": [
        {
          "output_type": "execute_result",
          "data": {
            "text/plain": [
              "5    681\n",
              "6    638\n",
              "7    199\n",
              "4     53\n",
              "8     18\n",
              "3     10\n",
              "Name: Signal_Strength, dtype: int64"
            ]
          },
          "metadata": {},
          "execution_count": 124
        }
      ],
      "source": [
        "data['Signal_Strength'].value_counts()"
      ]
    },
    {
      "cell_type": "markdown",
      "source": [
        "**Part A - Q1 B** - Check for missing values and print percentage for each attribute."
      ],
      "metadata": {
        "id": "cit9lxxygUvr"
      }
    },
    {
      "cell_type": "code",
      "execution_count": 125,
      "metadata": {
        "colab": {
          "base_uri": "https://localhost:8080/",
          "height": 0
        },
        "id": "l1W--Ax3Hj9J",
        "outputId": "9a3169c0-d982-461b-fba8-ce75107d5b70"
      },
      "outputs": [
        {
          "output_type": "execute_result",
          "data": {
            "text/plain": [
              "Parameter 1        0.0\n",
              "Parameter 2        0.0\n",
              "Parameter 3        0.0\n",
              "Parameter 4        0.0\n",
              "Parameter 5        0.0\n",
              "Parameter 6        0.0\n",
              "Parameter 7        0.0\n",
              "Parameter 8        0.0\n",
              "Parameter 9        0.0\n",
              "Parameter 10       0.0\n",
              "Parameter 11       0.0\n",
              "Signal_Strength    0.0\n",
              "dtype: float64"
            ]
          },
          "metadata": {},
          "execution_count": 125
        }
      ],
      "source": [
        "(data.isnull().sum()/data.sum()) * 100"
      ]
    },
    {
      "cell_type": "markdown",
      "source": [
        "**Part A - Q1 C **- Check for presence of duplicate records in the dataset and impute with appropriate method."
      ],
      "metadata": {
        "id": "gz4Yoe3ggW8F"
      }
    },
    {
      "cell_type": "code",
      "execution_count": 126,
      "metadata": {
        "colab": {
          "base_uri": "https://localhost:8080/",
          "height": 0
        },
        "id": "GeN74BTgHoJS",
        "outputId": "d2572d4a-bb97-48e9-c02f-bb4c5c0baf7c"
      },
      "outputs": [
        {
          "output_type": "stream",
          "name": "stdout",
          "text": [
            "Parameter 1        240\n",
            "Parameter 2        240\n",
            "Parameter 3        240\n",
            "Parameter 4        240\n",
            "Parameter 5        240\n",
            "Parameter 6        240\n",
            "Parameter 7        240\n",
            "Parameter 8        240\n",
            "Parameter 9        240\n",
            "Parameter 10       240\n",
            "Parameter 11       240\n",
            "Signal_Strength    240\n",
            "dtype: int64\n",
            "<class 'pandas.core.frame.DataFrame'>\n",
            "RangeIndex: 1599 entries, 0 to 1598\n",
            "Data columns (total 12 columns):\n",
            " #   Column           Non-Null Count  Dtype  \n",
            "---  ------           --------------  -----  \n",
            " 0   Parameter 1      1599 non-null   float64\n",
            " 1   Parameter 2      1599 non-null   float64\n",
            " 2   Parameter 3      1599 non-null   float64\n",
            " 3   Parameter 4      1599 non-null   float64\n",
            " 4   Parameter 5      1599 non-null   float64\n",
            " 5   Parameter 6      1599 non-null   float64\n",
            " 6   Parameter 7      1599 non-null   float64\n",
            " 7   Parameter 8      1599 non-null   float64\n",
            " 8   Parameter 9      1599 non-null   float64\n",
            " 9   Parameter 10     1599 non-null   float64\n",
            " 10  Parameter 11     1599 non-null   float64\n",
            " 11  Signal_Strength  1599 non-null   int64  \n",
            "dtypes: float64(11), int64(1)\n",
            "memory usage: 150.0 KB\n",
            "None\n",
            "<class 'pandas.core.frame.DataFrame'>\n",
            "Int64Index: 1359 entries, 0 to 1598\n",
            "Data columns (total 12 columns):\n",
            " #   Column           Non-Null Count  Dtype  \n",
            "---  ------           --------------  -----  \n",
            " 0   Parameter 1      1359 non-null   float64\n",
            " 1   Parameter 2      1359 non-null   float64\n",
            " 2   Parameter 3      1359 non-null   float64\n",
            " 3   Parameter 4      1359 non-null   float64\n",
            " 4   Parameter 5      1359 non-null   float64\n",
            " 5   Parameter 6      1359 non-null   float64\n",
            " 6   Parameter 7      1359 non-null   float64\n",
            " 7   Parameter 8      1359 non-null   float64\n",
            " 8   Parameter 9      1359 non-null   float64\n",
            " 9   Parameter 10     1359 non-null   float64\n",
            " 10  Parameter 11     1359 non-null   float64\n",
            " 11  Signal_Strength  1359 non-null   int64  \n",
            "dtypes: float64(11), int64(1)\n",
            "memory usage: 138.0 KB\n",
            "None\n"
          ]
        }
      ],
      "source": [
        "print(data[data.duplicated() == 1].count())\n",
        "dataNew = data.drop_duplicates()\n",
        "\n",
        "print(data.info())\n",
        "print(dataNew.info())"
      ]
    },
    {
      "cell_type": "markdown",
      "source": [
        "**Part A - Q1 D **- Visualise distribution of the target variable."
      ],
      "metadata": {
        "id": "3nXodr59gnVo"
      }
    },
    {
      "cell_type": "code",
      "execution_count": 127,
      "metadata": {
        "colab": {
          "base_uri": "https://localhost:8080/",
          "height": 430
        },
        "id": "UjZGWSMFMJBp",
        "outputId": "ac77de14-f92c-4055-9750-3f3b76192b9f"
      },
      "outputs": [
        {
          "output_type": "display_data",
          "data": {
            "text/plain": [
              "<Figure size 640x480 with 1 Axes>"
            ],
            "image/png": "[encoded data removed]"
          },
          "metadata": {}
        }
      ],
      "source": [
        "plt.boxplot(data=dataNew,x='Signal_Strength');\n",
        "\n",
        "# there are two outliers at 3 & 8 other than that most of the values lies in b/w 5 & 6"
      ]
    },
    {
      "cell_type": "code",
      "execution_count": 128,
      "metadata": {
        "colab": {
          "base_uri": "https://localhost:8080/",
          "height": 300
        },
        "id": "nuMc6JQJDw0-",
        "outputId": "1437b081-b008-4e98-d73a-9fb8e2ba89ac"
      },
      "outputs": [
        {
          "output_type": "execute_result",
          "data": {
            "text/plain": [
              "       Parameter 1  Parameter 2  Parameter 3  Parameter 4  Parameter 5  \\\n",
              "count  1599.000000  1599.000000  1599.000000  1599.000000  1599.000000   \n",
              "mean      8.319637     0.527821     0.270976     2.538806     0.087467   \n",
              "std       1.741096     0.179060     0.194801     1.409928     0.047065   \n",
              "min       4.600000     0.120000     0.000000     0.900000     0.012000   \n",
              "25%       7.100000     0.390000     0.090000     1.900000     0.070000   \n",
              "50%       7.900000     0.520000     0.260000     2.200000     0.079000   \n",
              "75%       9.200000     0.640000     0.420000     2.600000     0.090000   \n",
              "max      15.900000     1.580000     1.000000    15.500000     0.611000   \n",
              "\n",
              "       Parameter 6  Parameter 7  Parameter 8  Parameter 9  Parameter 10  \\\n",
              "count  1599.000000  1599.000000  1599.000000  1599.000000   1599.000000   \n",
              "mean     15.874922    46.467792     0.996747     3.311113      0.658149   \n",
              "std      10.460157    32.895324     0.001887     0.154386      0.169507   \n",
              "min       1.000000     6.000000     0.990070     2.740000      0.330000   \n",
              "25%       7.000000    22.000000     0.995600     3.210000      0.550000   \n",
              "50%      14.000000    38.000000     0.996750     3.310000      0.620000   \n",
              "75%      21.000000    62.000000     0.997835     3.400000      0.730000   \n",
              "max      72.000000   289.000000     1.003690     4.010000      2.000000   \n",
              "\n",
              "       Parameter 11  Signal_Strength  \n",
              "count   1599.000000      1599.000000  \n",
              "mean      10.422983         5.636023  \n",
              "std        1.065668         0.807569  \n",
              "min        8.400000         3.000000  \n",
              "25%        9.500000         5.000000  \n",
              "50%       10.200000         6.000000  \n",
              "75%       11.100000         6.000000  \n",
              "max       14.900000         8.000000  "
            ],
            "text/html": [
              "\n",
              "  <div id=\"df-244dcf5b-b018-4731-b759-1ec3e97a7007\">\n",
              "    <div class=\"colab-df-container\">\n",
              "      <div>\n",
              "<style scoped>\n",
              "    .dataframe tbody tr th:only-of-type {\n",
              "        vertical-align: middle;\n",
              "    }\n",
              "\n",
              "    .dataframe tbody tr th {\n",
              "        vertical-align: top;\n",
              "    }\n",
              "\n",
              "    .dataframe thead th {\n",
              "        text-align: right;\n",
              "    }\n",
              "</style>\n",
              "<table border=\"1\" class=\"dataframe\">\n",
              "  <thead>\n",
              "    <tr style=\"text-align: right;\">\n",
              "      <th></th>\n",
              "      <th>Parameter 1</th>\n",
              "      <th>Parameter 2</th>\n",
              "      <th>Parameter 3</th>\n",
              "      <th>Parameter 4</th>\n",
              "      <th>Parameter 5</th>\n",
              "      <th>Parameter 6</th>\n",
              "      <th>Parameter 7</th>\n",
              "      <th>Parameter 8</th>\n",
              "      <th>Parameter 9</th>\n",
              "      <th>Parameter 10</th>\n",
              "      <th>Parameter 11</th>\n",
              "      <th>Signal_Strength</th>\n",
              "    </tr>\n",
              "  </thead>\n",
              "  <tbody>\n",
              "    <tr>\n",
              "      <th>count</th>\n",
              "      <td>1599.000000</td>\n",
              "      <td>1599.000000</td>\n",
              "      <td>1599.000000</td>\n",
              "      <td>1599.000000</td>\n",
              "      <td>1599.000000</td>\n",
              "      <td>1599.000000</td>\n",
              "      <td>1599.000000</td>\n",
              "      <td>1599.000000</td>\n",
              "      <td>1599.000000</td>\n",
              "      <td>1599.000000</td>\n",
              "      <td>1599.000000</td>\n",
              "      <td>1599.000000</td>\n",
              "    </tr>\n",
              "    <tr>\n",
              "      <th>mean</th>\n",
              "      <td>8.319637</td>\n",
              "      <td>0.527821</td>\n",
              "      <td>0.270976</td>\n",
              "      <td>2.538806</td>\n",
              "      <td>0.087467</td>\n",
              "      <td>15.874922</td>\n",
              "      <td>46.467792</td>\n",
              "      <td>0.996747</td>\n",
              "      <td>3.311113</td>\n",
              "      <td>0.658149</td>\n",
              "      <td>10.422983</td>\n",
              "      <td>5.636023</td>\n",
              "    </tr>\n",
              "    <tr>\n",
              "      <th>std</th>\n",
              "      <td>1.741096</td>\n",
              "      <td>0.179060</td>\n",
              "      <td>0.194801</td>\n",
              "      <td>1.409928</td>\n",
              "      <td>0.047065</td>\n",
              "      <td>10.460157</td>\n",
              "      <td>32.895324</td>\n",
              "      <td>0.001887</td>\n",
              "      <td>0.154386</td>\n",
              "      <td>0.169507</td>\n",
              "      <td>1.065668</td>\n",
              "      <td>0.807569</td>\n",
              "    </tr>\n",
              "    <tr>\n",
              "      <th>min</th>\n",
              "      <td>4.600000</td>\n",
              "      <td>0.120000</td>\n",
              "      <td>0.000000</td>\n",
              "      <td>0.900000</td>\n",
              "      <td>0.012000</td>\n",
              "      <td>1.000000</td>\n",
              "      <td>6.000000</td>\n",
              "      <td>0.990070</td>\n",
              "      <td>2.740000</td>\n",
              "      <td>0.330000</td>\n",
              "      <td>8.400000</td>\n",
              "      <td>3.000000</td>\n",
              "    </tr>\n",
              "    <tr>\n",
              "      <th>25%</th>\n",
              "      <td>7.100000</td>\n",
              "      <td>0.390000</td>\n",
              "      <td>0.090000</td>\n",
              "      <td>1.900000</td>\n",
              "      <td>0.070000</td>\n",
              "      <td>7.000000</td>\n",
              "      <td>22.000000</td>\n",
              "      <td>0.995600</td>\n",
              "      <td>3.210000</td>\n",
              "      <td>0.550000</td>\n",
              "      <td>9.500000</td>\n",
              "      <td>5.000000</td>\n",
              "    </tr>\n",
              "    <tr>\n",
              "      <th>50%</th>\n",
              "      <td>7.900000</td>\n",
              "      <td>0.520000</td>\n",
              "      <td>0.260000</td>\n",
              "      <td>2.200000</td>\n",
              "      <td>0.079000</td>\n",
              "      <td>14.000000</td>\n",
              "      <td>38.000000</td>\n",
              "      <td>0.996750</td>\n",
              "      <td>3.310000</td>\n",
              "      <td>0.620000</td>\n",
              "      <td>10.200000</td>\n",
              "      <td>6.000000</td>\n",
              "    </tr>\n",
              "    <tr>\n",
              "      <th>75%</th>\n",
              "      <td>9.200000</td>\n",
              "      <td>0.640000</td>\n",
              "      <td>0.420000</td>\n",
              "      <td>2.600000</td>\n",
              "      <td>0.090000</td>\n",
              "      <td>21.000000</td>\n",
              "      <td>62.000000</td>\n",
              "      <td>0.997835</td>\n",
              "      <td>3.400000</td>\n",
              "      <td>0.730000</td>\n",
              "      <td>11.100000</td>\n",
              "      <td>6.000000</td>\n",
              "    </tr>\n",
              "    <tr>\n",
              "      <th>max</th>\n",
              "      <td>15.900000</td>\n",
              "      <td>1.580000</td>\n",
              "      <td>1.000000</td>\n",
              "      <td>15.500000</td>\n",
              "      <td>0.611000</td>\n",
              "      <td>72.000000</td>\n",
              "      <td>289.000000</td>\n",
              "      <td>1.003690</td>\n",
              "      <td>4.010000</td>\n",
              "      <td>2.000000</td>\n",
              "      <td>14.900000</td>\n",
              "      <td>8.000000</td>\n",
              "    </tr>\n",
              "  </tbody>\n",
              "</table>\n",
              "</div>\n",
              "      <button class=\"colab-df-convert\" onclick=\"convertToInteractive('df-244dcf5b-b018-4731-b759-1ec3e97a7007')\"\n",
              "              title=\"Convert this dataframe to an interactive table.\"\n",
              "              style=\"display:none;\">\n",
              "        \n",
              "  <svg xmlns=\"http://www.w3.org/2000/svg\" height=\"24px\"viewBox=\"0 0 24 24\"\n",
              "       width=\"24px\">\n",
              "    <path d=\"M0 0h24v24H0V0z\" fill=\"none\"/>\n",
              "    <path d=\"M18.56 5.44l.94 2.06.94-2.06 2.06-.94-2.06-.94-.94-2.06-.94 2.06-2.06.94zm-11 1L8.5 8.5l.94-2.06 2.06-.94-2.06-.94L8.5 2.5l-.94 2.06-2.06.94zm10 10l.94 2.06.94-2.06 2.06-.94-2.06-.94-.94-2.06-.94 2.06-2.06.94z\"/><path d=\"M17.41 7.96l-1.37-1.37c-.4-.4-.92-.59-1.43-.59-.52 0-1.04.2-1.43.59L10.3 9.45l-7.72 7.72c-.78.78-.78 2.05 0 2.83L4 21.41c.39.39.9.59 1.41.59.51 0 1.02-.2 1.41-.59l7.78-7.78 2.81-2.81c.8-.78.8-2.07 0-2.86zM5.41 20L4 18.59l7.72-7.72 1.47 1.35L5.41 20z\"/>\n",
              "  </svg>\n",
              "      </button>\n",
              "      \n",
              "  <style>\n",
              "    .colab-df-container {\n",
              "      display:flex;\n",
              "      flex-wrap:wrap;\n",
              "      gap: 12px;\n",
              "    }\n",
              "\n",
              "    .colab-df-convert {\n",
              "      background-color: #E8F0FE;\n",
              "      border: none;\n",
              "      border-radius: 50%;\n",
              "      cursor: pointer;\n",
              "      display: none;\n",
              "      fill: #1967D2;\n",
              "      height: 32px;\n",
              "      padding: 0 0 0 0;\n",
              "      width: 32px;\n",
              "    }\n",
              "\n",
              "    .colab-df-convert:hover {\n",
              "      background-color: #E2EBFA;\n",
              "      box-shadow: 0px 1px 2px rgba(60, 64, 67, 0.3), 0px 1px 3px 1px rgba(60, 64, 67, 0.15);\n",
              "      fill: #174EA6;\n",
              "    }\n",
              "\n",
              "    [theme=dark] .colab-df-convert {\n",
              "      background-color: #3B4455;\n",
              "      fill: #D2E3FC;\n",
              "    }\n",
              "\n",
              "    [theme=dark] .colab-df-convert:hover {\n",
              "      background-color: #434B5C;\n",
              "      box-shadow: 0px 1px 3px 1px rgba(0, 0, 0, 0.15);\n",
              "      filter: drop-shadow(0px 1px 2px rgba(0, 0, 0, 0.3));\n",
              "      fill: #FFFFFF;\n",
              "    }\n",
              "  </style>\n",
              "\n",
              "      <script>\n",
              "        const buttonEl =\n",
              "          document.querySelector('#df-244dcf5b-b018-4731-b759-1ec3e97a7007 button.colab-df-convert');\n",
              "        buttonEl.style.display =\n",
              "          google.colab.kernel.accessAllowed ? 'block' : 'none';\n",
              "\n",
              "        async function convertToInteractive(key) {\n",
              "          const element = document.querySelector('#df-244dcf5b-b018-4731-b759-1ec3e97a7007');\n",
              "          const dataTable =\n",
              "            await google.colab.kernel.invokeFunction('convertToInteractive',\n",
              "                                                     [key], {});\n",
              "          if (!dataTable) return;\n",
              "\n",
              "          const docLinkHtml = 'Like what you see? Visit the ' +\n",
              "            '<a target=\"_blank\" href=https://colab.research.google.com/notebooks/data_table.ipynb>data table notebook</a>'\n",
              "            + ' to learn more about interactive tables.';\n",
              "          element.innerHTML = '';\n",
              "          dataTable['output_type'] = 'display_data';\n",
              "          await google.colab.output.renderOutput(dataTable, element);\n",
              "          const docLink = document.createElement('div');\n",
              "          docLink.innerHTML = docLinkHtml;\n",
              "          element.appendChild(docLink);\n",
              "        }\n",
              "      </script>\n",
              "    </div>\n",
              "  </div>\n",
              "  "
            ]
          },
          "metadata": {},
          "execution_count": 128
        }
      ],
      "source": [
        "data.describe()"
      ]
    },
    {
      "cell_type": "code",
      "execution_count": 129,
      "metadata": {
        "colab": {
          "base_uri": "https://localhost:8080/",
          "height": 430
        },
        "id": "e7p53vfg8V-G",
        "outputId": "f6b180b9-ab96-49b9-afd5-aa902e1af6ff"
      },
      "outputs": [
        {
          "output_type": "display_data",
          "data": {
            "text/plain": [
              "<Figure size 640x480 with 1 Axes>"
            ],
            "image/png": "[encoded data removed]"
          },
          "metadata": {}
        }
      ],
      "source": [
        "plt.boxplot(data=dataNew,x='Parameter 6');"
      ]
    },
    {
      "cell_type": "code",
      "execution_count": 130,
      "metadata": {
        "colab": {
          "base_uri": "https://localhost:8080/",
          "height": 432
        },
        "id": "pb9mjpgCApw9",
        "outputId": "87f9c279-997f-46b1-8b03-a797ce2c2508"
      },
      "outputs": [
        {
          "output_type": "display_data",
          "data": {
            "text/plain": [
              "<Figure size 640x480 with 1 Axes>"
            ],
            "image/png": "[encoded data removed]"
          },
          "metadata": {}
        }
      ],
      "source": [
        "plt.boxplot(data=dataNew,x='Parameter 7');"
      ]
    },
    {
      "cell_type": "markdown",
      "source": [
        "***Part A - Q1 E - ***Share insights from the initial data analysis (at least 2)."
      ],
      "metadata": {
        "id": "1iRmhOAIg3Xk"
      }
    },
    {
      "cell_type": "code",
      "execution_count": 131,
      "metadata": {
        "colab": {
          "base_uri": "https://localhost:8080/",
          "height": 449
        },
        "id": "kpZirvApBN-k",
        "outputId": "fb68ecf7-4ee0-4640-f124-62149ab8b59c"
      },
      "outputs": [
        {
          "output_type": "display_data",
          "data": {
            "text/plain": [
              "<Figure size 640x480 with 1 Axes>"
            ],
            "image/png": "[encoded data removed]"
          },
          "metadata": {}
        }
      ],
      "source": [
        "sns.boxplot(data=dataNew,x='Parameter 8');\n",
        "#Insights\n",
        "# Most of thee Parameter 1,2 4,5, 6 & 7  are skewed towards right with lot of outliers in the upper region.\n",
        "# Parameter 8 is normally distributed, however it also has outliers on both sides"
      ]
    },
    {
      "cell_type": "markdown",
      "source": [
        "**Part A - Q2 A **- Split the data into X & Y."
      ],
      "metadata": {
        "id": "e9y6ocF_hEPA"
      }
    },
    {
      "cell_type": "code",
      "execution_count": 132,
      "metadata": {
        "colab": {
          "base_uri": "https://localhost:8080/",
          "height": 0
        },
        "id": "CJAGQ_wuGTaZ",
        "outputId": "7e0446b4-77c6-4267-fef6-b49e86c7c7a7"
      },
      "outputs": [
        {
          "output_type": "execute_result",
          "data": {
            "text/plain": [
              "(1359, 11)"
            ]
          },
          "metadata": {},
          "execution_count": 132
        }
      ],
      "source": [
        "X= dataNew.drop(columns='Signal_Strength')\n",
        "Y= dataNew['Signal_Strength']\n",
        "X.shape"
      ]
    },
    {
      "cell_type": "markdown",
      "source": [
        "**Part A - Q2 B** - Split the data into train & test with 70:30 proportion."
      ],
      "metadata": {
        "id": "oDPFsRY-hH-8"
      }
    },
    {
      "cell_type": "code",
      "execution_count": 133,
      "metadata": {
        "id": "rWkeSRrQig0-"
      },
      "outputs": [],
      "source": [
        "X_train, X_test, y_train, y_test = train_test_split(X,Y,test_size=0.3,random_state=17,stratify=Y)"
      ]
    },
    {
      "cell_type": "markdown",
      "source": [
        "**Part A - Q2 C **- Print shape of all the 4 variables and verify if train and test data is in sync."
      ],
      "metadata": {
        "id": "bBGwyVKehMlu"
      }
    },
    {
      "cell_type": "code",
      "execution_count": 134,
      "metadata": {
        "colab": {
          "base_uri": "https://localhost:8080/",
          "height": 0
        },
        "id": "dcZcBxzHrp_9",
        "outputId": "01237d9c-bc98-4487-89c1-5e70018e1a58"
      },
      "outputs": [
        {
          "output_type": "stream",
          "name": "stdout",
          "text": [
            "(951, 11)\n",
            "(951,)\n",
            "(408, 11)\n",
            "(408,)\n"
          ]
        }
      ],
      "source": [
        "print(X_train.shape)\n",
        "print(y_train.shape)\n",
        "print(X_test.shape)\n",
        "print(y_test.shape)"
      ]
    },
    {
      "cell_type": "markdown",
      "source": [
        "**Part A - Q2 D** - Normalise the train and test data with appropriate method."
      ],
      "metadata": {
        "id": "96k2Uz-mhRPM"
      }
    },
    {
      "cell_type": "code",
      "execution_count": 135,
      "metadata": {
        "id": "kciwyz8Pr4Ii"
      },
      "outputs": [],
      "source": [
        "#Normalization\n",
        "X_train = preprocessing.normalize(X_train)\n",
        "X_test = preprocessing.normalize(X_test)"
      ]
    },
    {
      "cell_type": "code",
      "execution_count": 136,
      "metadata": {
        "colab": {
          "base_uri": "https://localhost:8080/",
          "height": 0
        },
        "id": "UJxYYLbEumDG",
        "outputId": "5d11196d-818f-4456-f2d4-a0f156308068"
      },
      "outputs": [
        {
          "output_type": "execute_result",
          "data": {
            "text/plain": [
              "array([[0.10030258, 0.00514711, 0.00409129, ..., 0.04645593, 0.00857851,\n",
              "        0.12801776],\n",
              "       [0.12541533, 0.00756181, 0.00571746, ..., 0.0623388 , 0.0118038 ,\n",
              "        0.18627865],\n",
              "       [0.29513992, 0.01014543, 0.01598675, ..., 0.10329897, 0.02336524,\n",
              "        0.38122239],\n",
              "       ...,\n",
              "       [0.32950604, 0.01407265, 0.01269971, ..., 0.11120829, 0.01922119,\n",
              "        0.36039723],\n",
              "       [0.06792387, 0.00477084, 0.00234499, ..., 0.02547145, 0.00404309,\n",
              "        0.07358419],\n",
              "       [0.11924375, 0.01078872, 0.00529972, ..., 0.06454305, 0.01135655,\n",
              "        0.24227302]])"
            ]
          },
          "metadata": {},
          "execution_count": 136
        }
      ],
      "source": [
        "X_train"
      ]
    },
    {
      "cell_type": "markdown",
      "source": [
        "**Part A - Q2 E **- Transform Labels into format acceptable by Neural Network"
      ],
      "metadata": {
        "id": "987KwBlahWp3"
      }
    },
    {
      "cell_type": "code",
      "execution_count": 137,
      "metadata": {
        "id": "wSxmV-fxJM6d"
      },
      "outputs": [],
      "source": [
        "#transform label into format acceptable by neural network\n",
        "\n",
        "from tensorflow.keras.utils import to_categorical\n",
        "\n",
        "y_train = to_categorical(y_train)\n",
        "y_test = to_categorical(y_test)"
      ]
    },
    {
      "cell_type": "code",
      "execution_count": 138,
      "metadata": {
        "colab": {
          "base_uri": "https://localhost:8080/",
          "height": 0
        },
        "id": "u-SGzpZXXznQ",
        "outputId": "19350336-1576-4648-9d4b-71f9a28c7adb"
      },
      "outputs": [
        {
          "output_type": "execute_result",
          "data": {
            "text/plain": [
              "array([0., 0., 0., 0., 0., 1., 0., 0., 0.], dtype=float32)"
            ]
          },
          "metadata": {},
          "execution_count": 138
        }
      ],
      "source": [
        "y_train[0]"
      ]
    },
    {
      "cell_type": "markdown",
      "source": [
        "***Part A - Q3 A ***- Design a Neural Network to train a classifier."
      ],
      "metadata": {
        "id": "Uz4oC3IvhaYI"
      }
    },
    {
      "cell_type": "code",
      "execution_count": 139,
      "metadata": {
        "id": "G8ug4iUKX4w9"
      },
      "outputs": [],
      "source": [
        "#Design Neural Network\n",
        "\n",
        "model = Sequential()\n",
        "model.add(Dense(50, input_shape=(11,)))\n",
        "model.add(Activation('sigmoid'))\n",
        "model.add(Dense(50))\n",
        "model.add(Activation('sigmoid'))\n",
        "model.add(Dense(50))\n",
        "model.add(Activation('sigmoid'))\n",
        "model.add(Dense(50))\n",
        "model.add(Activation('sigmoid'))\n",
        "model.add(Dense(9))\n",
        "model.add(Activation('softmax'))"
      ]
    },
    {
      "cell_type": "markdown",
      "source": [
        "***Part A - Q3 B ***- Train the classifier using previously designed Architecture"
      ],
      "metadata": {
        "id": "w8JKPYenhiME"
      }
    },
    {
      "cell_type": "code",
      "execution_count": 140,
      "metadata": {
        "colab": {
          "base_uri": "https://localhost:8080/",
          "height": 0
        },
        "id": "ohm9fTBWhxHE",
        "outputId": "55d62c34-7f06-42e8-9472-05961dd97509"
      },
      "outputs": [
        {
          "output_type": "stream",
          "name": "stdout",
          "text": [
            "Model: \"sequential_6\"\n",
            "_________________________________________________________________\n",
            " Layer (type)                Output Shape              Param #   \n",
            "=================================================================\n",
            " dense_30 (Dense)            (None, 50)                600       \n",
            "                                                                 \n",
            " activation_30 (Activation)  (None, 50)                0         \n",
            "                                                                 \n",
            " dense_31 (Dense)            (None, 50)                2550      \n",
            "                                                                 \n",
            " activation_31 (Activation)  (None, 50)                0         \n",
            "                                                                 \n",
            " dense_32 (Dense)            (None, 50)                2550      \n",
            "                                                                 \n",
            " activation_32 (Activation)  (None, 50)                0         \n",
            "                                                                 \n",
            " dense_33 (Dense)            (None, 50)                2550      \n",
            "                                                                 \n",
            " activation_33 (Activation)  (None, 50)                0         \n",
            "                                                                 \n",
            " dense_34 (Dense)            (None, 9)                 459       \n",
            "                                                                 \n",
            " activation_34 (Activation)  (None, 9)                 0         \n",
            "                                                                 \n",
            "=================================================================\n",
            "Total params: 8,709\n",
            "Trainable params: 8,709\n",
            "Non-trainable params: 0\n",
            "_________________________________________________________________\n"
          ]
        }
      ],
      "source": [
        "from tensorflow.keras import optimizers\n",
        "sgd = optimizers.SGD(learning_rate=0.001)\n",
        "model.compile(optimizer=sgd, loss=losses.categorical_crossentropy, metrics=['accuracy'])\n",
        "model.summary()"
      ]
    },
    {
      "cell_type": "code",
      "execution_count": 141,
      "metadata": {
        "id": "0obnpdXVh0et"
      },
      "outputs": [],
      "source": [
        "from tensorflow.keras.callbacks import ModelCheckpoint, ReduceLROnPlateau\n",
        "checkpoint = ModelCheckpoint(\"model_weights.h5\",monitor='val_accuracy',\n",
        "                            save_weights_only=True, mode='max',verbose=1)\n",
        "reduce_lr = ReduceLROnPlateau(monitor='val_loss',factor=0.1,patience=2,min_lr=0.00001,model='auto')\n",
        "callbacks = [checkpoint,reduce_lr]"
      ]
    },
    {
      "cell_type": "code",
      "execution_count": 142,
      "metadata": {
        "colab": {
          "base_uri": "https://localhost:8080/",
          "height": 0
        },
        "id": "xqbpwxd1qXUQ",
        "outputId": "1726e2bc-3661-44a8-c893-a1a274ca4ffe"
      },
      "outputs": [
        {
          "output_type": "stream",
          "name": "stdout",
          "text": [
            "Epoch 1/30\n",
            "\n",
            "Epoch 1: saving model to model_weights.h5\n",
            "8/8 - 1s - loss: 2.0392 - accuracy: 0.0105 - val_loss: 1.9909 - val_accuracy: 0.0209 - lr: 0.0010 - 847ms/epoch - 106ms/step\n",
            "Epoch 2/30\n",
            "\n",
            "Epoch 2: saving model to model_weights.h5\n",
            "8/8 - 0s - loss: 2.0111 - accuracy: 0.0105 - val_loss: 1.9631 - val_accuracy: 0.0209 - lr: 0.0010 - 76ms/epoch - 9ms/step\n",
            "Epoch 3/30\n",
            "\n",
            "Epoch 3: saving model to model_weights.h5\n",
            "8/8 - 0s - loss: 1.9842 - accuracy: 0.0105 - val_loss: 1.9365 - val_accuracy: 0.0209 - lr: 0.0010 - 63ms/epoch - 8ms/step\n",
            "Epoch 4/30\n",
            "\n",
            "Epoch 4: saving model to model_weights.h5\n",
            "8/8 - 0s - loss: 1.9584 - accuracy: 0.0105 - val_loss: 1.9107 - val_accuracy: 0.0209 - lr: 0.0010 - 61ms/epoch - 8ms/step\n",
            "Epoch 5/30\n",
            "\n",
            "Epoch 5: saving model to model_weights.h5\n",
            "8/8 - 0s - loss: 1.9335 - accuracy: 0.0105 - val_loss: 1.8862 - val_accuracy: 0.0209 - lr: 0.0010 - 70ms/epoch - 9ms/step\n",
            "Epoch 6/30\n",
            "\n",
            "Epoch 6: saving model to model_weights.h5\n",
            "8/8 - 0s - loss: 1.9097 - accuracy: 0.0105 - val_loss: 1.8626 - val_accuracy: 0.0209 - lr: 0.0010 - 76ms/epoch - 9ms/step\n",
            "Epoch 7/30\n",
            "\n",
            "Epoch 7: saving model to model_weights.h5\n",
            "8/8 - 0s - loss: 1.8869 - accuracy: 0.3658 - val_loss: 1.8399 - val_accuracy: 0.4398 - lr: 0.0010 - 67ms/epoch - 8ms/step\n",
            "Epoch 8/30\n",
            "\n",
            "Epoch 8: saving model to model_weights.h5\n",
            "8/8 - 0s - loss: 1.8650 - accuracy: 0.4211 - val_loss: 1.8182 - val_accuracy: 0.4398 - lr: 0.0010 - 59ms/epoch - 7ms/step\n",
            "Epoch 9/30\n",
            "\n",
            "Epoch 9: saving model to model_weights.h5\n",
            "8/8 - 0s - loss: 1.8440 - accuracy: 0.4211 - val_loss: 1.7976 - val_accuracy: 0.4398 - lr: 0.0010 - 70ms/epoch - 9ms/step\n",
            "Epoch 10/30\n",
            "\n",
            "Epoch 10: saving model to model_weights.h5\n",
            "8/8 - 0s - loss: 1.8241 - accuracy: 0.4211 - val_loss: 1.7777 - val_accuracy: 0.4398 - lr: 0.0010 - 79ms/epoch - 10ms/step\n",
            "Epoch 11/30\n",
            "\n",
            "Epoch 11: saving model to model_weights.h5\n",
            "8/8 - 0s - loss: 1.8050 - accuracy: 0.4211 - val_loss: 1.7586 - val_accuracy: 0.4398 - lr: 0.0010 - 63ms/epoch - 8ms/step\n",
            "Epoch 12/30\n",
            "\n",
            "Epoch 12: saving model to model_weights.h5\n",
            "8/8 - 0s - loss: 1.7865 - accuracy: 0.4211 - val_loss: 1.7403 - val_accuracy: 0.4398 - lr: 0.0010 - 76ms/epoch - 9ms/step\n",
            "Epoch 13/30\n",
            "\n",
            "Epoch 13: saving model to model_weights.h5\n",
            "8/8 - 0s - loss: 1.7689 - accuracy: 0.4211 - val_loss: 1.7229 - val_accuracy: 0.4398 - lr: 0.0010 - 79ms/epoch - 10ms/step\n",
            "Epoch 14/30\n",
            "\n",
            "Epoch 14: saving model to model_weights.h5\n",
            "8/8 - 0s - loss: 1.7521 - accuracy: 0.4211 - val_loss: 1.7061 - val_accuracy: 0.4398 - lr: 0.0010 - 79ms/epoch - 10ms/step\n",
            "Epoch 15/30\n",
            "\n",
            "Epoch 15: saving model to model_weights.h5\n",
            "8/8 - 0s - loss: 1.7359 - accuracy: 0.4211 - val_loss: 1.6900 - val_accuracy: 0.4398 - lr: 0.0010 - 80ms/epoch - 10ms/step\n",
            "Epoch 16/30\n",
            "\n",
            "Epoch 16: saving model to model_weights.h5\n",
            "8/8 - 0s - loss: 1.7203 - accuracy: 0.4211 - val_loss: 1.6745 - val_accuracy: 0.4398 - lr: 0.0010 - 64ms/epoch - 8ms/step\n",
            "Epoch 17/30\n",
            "\n",
            "Epoch 17: saving model to model_weights.h5\n",
            "8/8 - 0s - loss: 1.7055 - accuracy: 0.4211 - val_loss: 1.6597 - val_accuracy: 0.4398 - lr: 0.0010 - 79ms/epoch - 10ms/step\n",
            "Epoch 18/30\n",
            "\n",
            "Epoch 18: saving model to model_weights.h5\n",
            "8/8 - 0s - loss: 1.6912 - accuracy: 0.4211 - val_loss: 1.6455 - val_accuracy: 0.4398 - lr: 0.0010 - 66ms/epoch - 8ms/step\n",
            "Epoch 19/30\n",
            "\n",
            "Epoch 19: saving model to model_weights.h5\n",
            "8/8 - 0s - loss: 1.6776 - accuracy: 0.4211 - val_loss: 1.6320 - val_accuracy: 0.4398 - lr: 0.0010 - 81ms/epoch - 10ms/step\n",
            "Epoch 20/30\n",
            "\n",
            "Epoch 20: saving model to model_weights.h5\n",
            "8/8 - 0s - loss: 1.6645 - accuracy: 0.4211 - val_loss: 1.6189 - val_accuracy: 0.4398 - lr: 0.0010 - 66ms/epoch - 8ms/step\n",
            "Epoch 21/30\n",
            "\n",
            "Epoch 21: saving model to model_weights.h5\n",
            "8/8 - 0s - loss: 1.6520 - accuracy: 0.4211 - val_loss: 1.6064 - val_accuracy: 0.4398 - lr: 0.0010 - 82ms/epoch - 10ms/step\n",
            "Epoch 22/30\n",
            "\n",
            "Epoch 22: saving model to model_weights.h5\n",
            "8/8 - 0s - loss: 1.6400 - accuracy: 0.4211 - val_loss: 1.5945 - val_accuracy: 0.4398 - lr: 0.0010 - 82ms/epoch - 10ms/step\n",
            "Epoch 23/30\n",
            "\n",
            "Epoch 23: saving model to model_weights.h5\n",
            "8/8 - 0s - loss: 1.6285 - accuracy: 0.4211 - val_loss: 1.5831 - val_accuracy: 0.4398 - lr: 0.0010 - 72ms/epoch - 9ms/step\n",
            "Epoch 24/30\n",
            "\n",
            "Epoch 24: saving model to model_weights.h5\n",
            "8/8 - 0s - loss: 1.6176 - accuracy: 0.4211 - val_loss: 1.5722 - val_accuracy: 0.4398 - lr: 0.0010 - 65ms/epoch - 8ms/step\n",
            "Epoch 25/30\n",
            "\n",
            "Epoch 25: saving model to model_weights.h5\n",
            "8/8 - 0s - loss: 1.6071 - accuracy: 0.4211 - val_loss: 1.5617 - val_accuracy: 0.4398 - lr: 0.0010 - 65ms/epoch - 8ms/step\n",
            "Epoch 26/30\n",
            "\n",
            "Epoch 26: saving model to model_weights.h5\n",
            "8/8 - 0s - loss: 1.5970 - accuracy: 0.4211 - val_loss: 1.5515 - val_accuracy: 0.4398 - lr: 0.0010 - 81ms/epoch - 10ms/step\n",
            "Epoch 27/30\n",
            "\n",
            "Epoch 27: saving model to model_weights.h5\n",
            "8/8 - 0s - loss: 1.5873 - accuracy: 0.4211 - val_loss: 1.5419 - val_accuracy: 0.4398 - lr: 0.0010 - 80ms/epoch - 10ms/step\n",
            "Epoch 28/30\n",
            "\n",
            "Epoch 28: saving model to model_weights.h5\n",
            "8/8 - 0s - loss: 1.5780 - accuracy: 0.4211 - val_loss: 1.5325 - val_accuracy: 0.4398 - lr: 0.0010 - 88ms/epoch - 11ms/step\n",
            "Epoch 29/30\n",
            "\n",
            "Epoch 29: saving model to model_weights.h5\n",
            "8/8 - 0s - loss: 1.5690 - accuracy: 0.4211 - val_loss: 1.5236 - val_accuracy: 0.4398 - lr: 0.0010 - 62ms/epoch - 8ms/step\n",
            "Epoch 30/30\n",
            "\n",
            "Epoch 30: saving model to model_weights.h5\n",
            "8/8 - 0s - loss: 1.5605 - accuracy: 0.4211 - val_loss: 1.5150 - val_accuracy: 0.4398 - lr: 0.0010 - 75ms/epoch - 9ms/step\n"
          ]
        }
      ],
      "source": [
        "hist = model.fit(X_train,y_train,validation_split=0.2, batch_size=100, epochs= 30, verbose= 2,callbacks = callbacks)"
      ]
    },
    {
      "cell_type": "code",
      "execution_count": 143,
      "metadata": {
        "colab": {
          "base_uri": "https://localhost:8080/",
          "height": 0
        },
        "id": "s-F9IRmCqm16",
        "outputId": "a9d0ffd6-3a8b-43a7-bc12-7a0f694bd761"
      },
      "outputs": [
        {
          "output_type": "stream",
          "name": "stdout",
          "text": [
            "13/13 [==============================] - 0s 2ms/step - loss: 1.5472 - accuracy: 0.4240\n"
          ]
        }
      ],
      "source": [
        "results = model.evaluate(X_test, y_test)"
      ]
    },
    {
      "cell_type": "code",
      "execution_count": 144,
      "metadata": {
        "colab": {
          "base_uri": "https://localhost:8080/",
          "height": 0
        },
        "id": "cs3U95eoeO2_",
        "outputId": "4104e717-6253-4567-9467-13a4e51b78fb"
      },
      "outputs": [
        {
          "output_type": "stream",
          "name": "stdout",
          "text": [
            "Test accuracy:  0.42401960492134094\n"
          ]
        }
      ],
      "source": [
        "print('Test accuracy: ', results[1])"
      ]
    },
    {
      "cell_type": "markdown",
      "source": [
        "***Part A - Q3 C ***- Plot 2 separate visuals. i. Training Loss and Validation Loss ii. Training Accuracy and Validation Accuracy"
      ],
      "metadata": {
        "id": "rKBT5GyFhvg1"
      }
    },
    {
      "cell_type": "code",
      "execution_count": 145,
      "metadata": {
        "colab": {
          "base_uri": "https://localhost:8080/",
          "height": 472
        },
        "id": "eyc1o5zGeWV6",
        "outputId": "f208c77d-93ba-4075-d58e-e9b33de5d7b4"
      },
      "outputs": [
        {
          "output_type": "display_data",
          "data": {
            "text/plain": [
              "<Figure size 640x480 with 1 Axes>"
            ],
            "image/png": "[encoded data removed]"
          },
          "metadata": {}
        }
      ],
      "source": [
        "loss, accuracy  = model.evaluate(X_test, y_test, verbose=False)\n",
        "\n",
        "plt.plot(hist.history['loss'])\n",
        "plt.plot(hist.history['val_loss'])\n",
        "plt.title('model loss')\n",
        "plt.ylabel('loss')\n",
        "plt.xlabel('epoch')\n",
        "plt.legend(['training', 'validation'], loc='best')\n",
        "plt.show()"
      ]
    },
    {
      "cell_type": "code",
      "execution_count": 146,
      "metadata": {
        "colab": {
          "base_uri": "https://localhost:8080/",
          "height": 472
        },
        "id": "2HM4mfDYlO2R",
        "outputId": "ccddbd41-eac0-42d3-f8b8-5e72addd37a1"
      },
      "outputs": [
        {
          "output_type": "display_data",
          "data": {
            "text/plain": [
              "<Figure size 640x480 with 1 Axes>"
            ],
            "image/png": "[encoded data removed]"
          },
          "metadata": {}
        }
      ],
      "source": [
        "\n",
        "plt.plot(hist.history['accuracy'])\n",
        "plt.plot(hist.history['val_accuracy'])\n",
        "plt.title('model accuracy')\n",
        "plt.ylabel('accuracy')\n",
        "plt.xlabel('epoch')\n",
        "plt.legend(['training', 'validation'], loc='best')\n",
        "plt.show()"
      ]
    },
    {
      "cell_type": "markdown",
      "source": [
        "***Part A - Q3 D ***- Design new architecture/update existing architecture in attempt to improve the performance of the model."
      ],
      "metadata": {
        "id": "zsDVXfIhh04l"
      }
    },
    {
      "cell_type": "code",
      "execution_count": 147,
      "metadata": {
        "colab": {
          "base_uri": "https://localhost:8080/",
          "height": 0
        },
        "id": "HXq-nzGZlYEF",
        "outputId": "3d2264ed-edc8-4f22-b23e-b56526c654aa"
      },
      "outputs": [
        {
          "output_type": "stream",
          "name": "stdout",
          "text": [
            "Model: \"sequential_7\"\n",
            "_________________________________________________________________\n",
            " Layer (type)                Output Shape              Param #   \n",
            "=================================================================\n",
            " dense_35 (Dense)            (None, 50)                600       \n",
            "                                                                 \n",
            " activation_35 (Activation)  (None, 50)                0         \n",
            "                                                                 \n",
            " dense_36 (Dense)            (None, 50)                2550      \n",
            "                                                                 \n",
            " activation_36 (Activation)  (None, 50)                0         \n",
            "                                                                 \n",
            " dense_37 (Dense)            (None, 50)                2550      \n",
            "                                                                 \n",
            " activation_37 (Activation)  (None, 50)                0         \n",
            "                                                                 \n",
            " dense_38 (Dense)            (None, 50)                2550      \n",
            "                                                                 \n",
            " activation_38 (Activation)  (None, 50)                0         \n",
            "                                                                 \n",
            " dropout_10 (Dropout)        (None, 50)                0         \n",
            "                                                                 \n",
            " batch_normalization_10 (Bat  (None, 50)               200       \n",
            " chNormalization)                                                \n",
            "                                                                 \n",
            " dense_39 (Dense)            (None, 9)                 459       \n",
            "                                                                 \n",
            " activation_39 (Activation)  (None, 9)                 0         \n",
            "                                                                 \n",
            "=================================================================\n",
            "Total params: 8,909\n",
            "Trainable params: 8,809\n",
            "Non-trainable params: 100\n",
            "_________________________________________________________________\n"
          ]
        }
      ],
      "source": [
        "#update Existing architecture\n",
        "modelnew = Sequential()\n",
        "modelnew.add(Dense(50, input_shape=(11,)))\n",
        "# modelnew.add(BatchNormalization())\n",
        "modelnew.add(Activation('relu'))\n",
        "# modelnew.add(Dropout(0.2))\n",
        "modelnew.add(Dense(50))\n",
        "# modelnew.add(BatchNormalization())\n",
        "modelnew.add(Activation('relu'))\n",
        "# modelnew.add(Dropout(0.2))\n",
        "modelnew.add(Dense(50))\n",
        "# modelnew.add(BatchNormalization())\n",
        "modelnew.add(Activation('relu'))\n",
        "# modelnew.add(Dropout(0.2))\n",
        "modelnew.add(Dense(50))\n",
        "# modelnew.add(BatchNormalization())\n",
        "modelnew.add(Activation('relu'))\n",
        "modelnew.add(Dropout(0.5))\n",
        "modelnew.add(BatchNormalization())\n",
        "modelnew.add(Dense(9))\n",
        "modelnew.add(Activation('softmax'))\n",
        "\n",
        "adam = optimizers.Adam(learning_rate=0.001)\n",
        "modelnew.compile(optimizer=adam, loss=losses.categorical_crossentropy, metrics=['accuracy'])\n",
        "modelnew.summary()"
      ]
    },
    {
      "cell_type": "code",
      "execution_count": 148,
      "metadata": {
        "colab": {
          "base_uri": "https://localhost:8080/",
          "height": 0
        },
        "id": "xxpbHguzpWKK",
        "outputId": "8a9eaf96-80d5-4783-fc10-452abf93dc65"
      },
      "outputs": [
        {
          "output_type": "stream",
          "name": "stdout",
          "text": [
            "Epoch 1/30\n",
            "\n",
            "Epoch 1: saving model to model_weightsnew.h5\n",
            "8/8 - 2s - loss: 2.2426 - accuracy: 0.1355 - val_loss: 2.1578 - val_accuracy: 0.3927 - lr: 0.0010 - 2s/epoch - 222ms/step\n",
            "Epoch 2/30\n",
            "\n",
            "Epoch 2: saving model to model_weightsnew.h5\n",
            "8/8 - 0s - loss: 2.1349 - accuracy: 0.2276 - val_loss: 2.1061 - val_accuracy: 0.4555 - lr: 0.0010 - 96ms/epoch - 12ms/step\n",
            "Epoch 3/30\n",
            "\n",
            "Epoch 3: saving model to model_weightsnew.h5\n",
            "8/8 - 0s - loss: 2.0545 - accuracy: 0.3605 - val_loss: 2.0560 - val_accuracy: 0.4346 - lr: 0.0010 - 112ms/epoch - 14ms/step\n",
            "Epoch 4/30\n",
            "\n",
            "Epoch 4: saving model to model_weightsnew.h5\n",
            "8/8 - 0s - loss: 1.9921 - accuracy: 0.4013 - val_loss: 1.9972 - val_accuracy: 0.4346 - lr: 0.0010 - 99ms/epoch - 12ms/step\n",
            "Epoch 5/30\n",
            "\n",
            "Epoch 5: saving model to model_weightsnew.h5\n",
            "8/8 - 0s - loss: 1.9295 - accuracy: 0.3974 - val_loss: 1.9354 - val_accuracy: 0.4346 - lr: 0.0010 - 120ms/epoch - 15ms/step\n",
            "Epoch 6/30\n",
            "\n",
            "Epoch 6: saving model to model_weightsnew.h5\n",
            "8/8 - 0s - loss: 1.8563 - accuracy: 0.4447 - val_loss: 1.8710 - val_accuracy: 0.4398 - lr: 0.0010 - 124ms/epoch - 15ms/step\n",
            "Epoch 7/30\n",
            "\n",
            "Epoch 7: saving model to model_weightsnew.h5\n",
            "8/8 - 0s - loss: 1.7859 - accuracy: 0.4618 - val_loss: 1.8033 - val_accuracy: 0.4398 - lr: 0.0010 - 106ms/epoch - 13ms/step\n",
            "Epoch 8/30\n",
            "\n",
            "Epoch 8: saving model to model_weightsnew.h5\n",
            "8/8 - 0s - loss: 1.7206 - accuracy: 0.4789 - val_loss: 1.7311 - val_accuracy: 0.4398 - lr: 0.0010 - 94ms/epoch - 12ms/step\n",
            "Epoch 9/30\n",
            "\n",
            "Epoch 9: saving model to model_weightsnew.h5\n",
            "8/8 - 0s - loss: 1.6409 - accuracy: 0.5026 - val_loss: 1.6590 - val_accuracy: 0.4398 - lr: 0.0010 - 94ms/epoch - 12ms/step\n",
            "Epoch 10/30\n",
            "\n",
            "Epoch 10: saving model to model_weightsnew.h5\n",
            "8/8 - 0s - loss: 1.5746 - accuracy: 0.5118 - val_loss: 1.5910 - val_accuracy: 0.4398 - lr: 0.0010 - 90ms/epoch - 11ms/step\n",
            "Epoch 11/30\n",
            "\n",
            "Epoch 11: saving model to model_weightsnew.h5\n",
            "8/8 - 0s - loss: 1.5194 - accuracy: 0.5079 - val_loss: 1.5248 - val_accuracy: 0.4398 - lr: 0.0010 - 94ms/epoch - 12ms/step\n",
            "Epoch 12/30\n",
            "\n",
            "Epoch 12: saving model to model_weightsnew.h5\n",
            "8/8 - 0s - loss: 1.4639 - accuracy: 0.4921 - val_loss: 1.4629 - val_accuracy: 0.4398 - lr: 0.0010 - 101ms/epoch - 13ms/step\n",
            "Epoch 13/30\n",
            "\n",
            "Epoch 13: saving model to model_weightsnew.h5\n",
            "8/8 - 0s - loss: 1.4045 - accuracy: 0.5039 - val_loss: 1.4134 - val_accuracy: 0.4398 - lr: 0.0010 - 95ms/epoch - 12ms/step\n",
            "Epoch 14/30\n",
            "\n",
            "Epoch 14: saving model to model_weightsnew.h5\n",
            "8/8 - 0s - loss: 1.3636 - accuracy: 0.4947 - val_loss: 1.3704 - val_accuracy: 0.4398 - lr: 0.0010 - 110ms/epoch - 14ms/step\n",
            "Epoch 15/30\n",
            "\n",
            "Epoch 15: saving model to model_weightsnew.h5\n",
            "8/8 - 0s - loss: 1.3129 - accuracy: 0.5197 - val_loss: 1.3326 - val_accuracy: 0.4398 - lr: 0.0010 - 108ms/epoch - 13ms/step\n",
            "Epoch 16/30\n",
            "\n",
            "Epoch 16: saving model to model_weightsnew.h5\n",
            "8/8 - 0s - loss: 1.2927 - accuracy: 0.4921 - val_loss: 1.3036 - val_accuracy: 0.4398 - lr: 0.0010 - 100ms/epoch - 13ms/step\n",
            "Epoch 17/30\n",
            "\n",
            "Epoch 17: saving model to model_weightsnew.h5\n",
            "8/8 - 0s - loss: 1.2606 - accuracy: 0.5289 - val_loss: 1.2824 - val_accuracy: 0.4398 - lr: 0.0010 - 102ms/epoch - 13ms/step\n",
            "Epoch 18/30\n",
            "\n",
            "Epoch 18: saving model to model_weightsnew.h5\n",
            "8/8 - 0s - loss: 1.2389 - accuracy: 0.5263 - val_loss: 1.2646 - val_accuracy: 0.4398 - lr: 0.0010 - 91ms/epoch - 11ms/step\n",
            "Epoch 19/30\n",
            "\n",
            "Epoch 19: saving model to model_weightsnew.h5\n",
            "8/8 - 0s - loss: 1.2127 - accuracy: 0.5171 - val_loss: 1.2472 - val_accuracy: 0.4450 - lr: 0.0010 - 93ms/epoch - 12ms/step\n",
            "Epoch 20/30\n",
            "\n",
            "Epoch 20: saving model to model_weightsnew.h5\n",
            "8/8 - 0s - loss: 1.2212 - accuracy: 0.5171 - val_loss: 1.2371 - val_accuracy: 0.4503 - lr: 0.0010 - 112ms/epoch - 14ms/step\n",
            "Epoch 21/30\n",
            "\n",
            "Epoch 21: saving model to model_weightsnew.h5\n",
            "8/8 - 0s - loss: 1.2052 - accuracy: 0.5250 - val_loss: 1.2313 - val_accuracy: 0.4764 - lr: 0.0010 - 123ms/epoch - 15ms/step\n",
            "Epoch 22/30\n",
            "\n",
            "Epoch 22: saving model to model_weightsnew.h5\n",
            "8/8 - 0s - loss: 1.2108 - accuracy: 0.5000 - val_loss: 1.2207 - val_accuracy: 0.4555 - lr: 0.0010 - 99ms/epoch - 12ms/step\n",
            "Epoch 23/30\n",
            "\n",
            "Epoch 23: saving model to model_weightsnew.h5\n",
            "8/8 - 0s - loss: 1.1989 - accuracy: 0.5184 - val_loss: 1.2147 - val_accuracy: 0.4503 - lr: 0.0010 - 95ms/epoch - 12ms/step\n",
            "Epoch 24/30\n",
            "\n",
            "Epoch 24: saving model to model_weightsnew.h5\n",
            "8/8 - 0s - loss: 1.1792 - accuracy: 0.5092 - val_loss: 1.2087 - val_accuracy: 0.4555 - lr: 0.0010 - 115ms/epoch - 14ms/step\n",
            "Epoch 25/30\n",
            "\n",
            "Epoch 25: saving model to model_weightsnew.h5\n",
            "8/8 - 0s - loss: 1.1810 - accuracy: 0.5118 - val_loss: 1.2017 - val_accuracy: 0.4817 - lr: 0.0010 - 109ms/epoch - 14ms/step\n",
            "Epoch 26/30\n",
            "\n",
            "Epoch 26: saving model to model_weightsnew.h5\n",
            "8/8 - 0s - loss: 1.1736 - accuracy: 0.5158 - val_loss: 1.2010 - val_accuracy: 0.4817 - lr: 0.0010 - 95ms/epoch - 12ms/step\n",
            "Epoch 27/30\n",
            "\n",
            "Epoch 27: saving model to model_weightsnew.h5\n",
            "8/8 - 0s - loss: 1.1622 - accuracy: 0.5039 - val_loss: 1.1949 - val_accuracy: 0.4555 - lr: 0.0010 - 116ms/epoch - 14ms/step\n",
            "Epoch 28/30\n",
            "\n",
            "Epoch 28: saving model to model_weightsnew.h5\n",
            "8/8 - 0s - loss: 1.1570 - accuracy: 0.5145 - val_loss: 1.1924 - val_accuracy: 0.4817 - lr: 0.0010 - 109ms/epoch - 14ms/step\n",
            "Epoch 29/30\n",
            "\n",
            "Epoch 29: saving model to model_weightsnew.h5\n",
            "8/8 - 0s - loss: 1.1579 - accuracy: 0.5158 - val_loss: 1.1845 - val_accuracy: 0.4817 - lr: 0.0010 - 93ms/epoch - 12ms/step\n",
            "Epoch 30/30\n",
            "\n",
            "Epoch 30: saving model to model_weightsnew.h5\n",
            "8/8 - 0s - loss: 1.1458 - accuracy: 0.5276 - val_loss: 1.1891 - val_accuracy: 0.4921 - lr: 0.0010 - 107ms/epoch - 13ms/step\n"
          ]
        }
      ],
      "source": [
        "checkpointnew = ModelCheckpoint(\"model_weightsnew.h5\",monitor='val_accuracy',\n",
        "                            save_weights_only=True, mode='max',verbose=1)\n",
        "reduce_lrnew = ReduceLROnPlateau(monitor='val_loss',factor=0.1,patience=2,min_lr=0.00001,model='auto')\n",
        "callbacksnew = [checkpointnew,reduce_lrnew]\n",
        "\n",
        "histnew = modelnew.fit(X_train,y_train,validation_split=0.2, batch_size=100, epochs= 30, verbose= 2,callbacks = callbacksnew)"
      ]
    },
    {
      "cell_type": "code",
      "execution_count": 149,
      "metadata": {
        "colab": {
          "base_uri": "https://localhost:8080/",
          "height": 0
        },
        "id": "-0xgLM-Ap40R",
        "outputId": "b9e66691-0dc4-4371-d529-de2da00cfdfa"
      },
      "outputs": [
        {
          "output_type": "stream",
          "name": "stdout",
          "text": [
            "13/13 [==============================] - 0s 2ms/step - loss: 1.2159 - accuracy: 0.5466\n"
          ]
        }
      ],
      "source": [
        "results = modelnew.evaluate(X_test, y_test)\n"
      ]
    },
    {
      "cell_type": "code",
      "execution_count": 150,
      "metadata": {
        "colab": {
          "base_uri": "https://localhost:8080/",
          "height": 0
        },
        "id": "I35VhbjEqD4A",
        "outputId": "548888fd-b6fa-460c-86a4-b93a01d1f034"
      },
      "outputs": [
        {
          "output_type": "stream",
          "name": "stdout",
          "text": [
            "Test accuracy:  0.5465686321258545\n"
          ]
        }
      ],
      "source": [
        "print('Test accuracy: ', results[1])"
      ]
    },
    {
      "cell_type": "markdown",
      "source": [
        "***Part A - Q3 E*** - Plot visuals as in Q3.C and share insights about difference observed in both the models."
      ],
      "metadata": {
        "id": "aMw_jGVlh9og"
      }
    },
    {
      "cell_type": "code",
      "execution_count": 151,
      "metadata": {
        "colab": {
          "base_uri": "https://localhost:8080/",
          "height": 472
        },
        "id": "UnM_d3UQqEW9",
        "outputId": "7e8dc066-6c74-4d76-d987-9825c6b2c580"
      },
      "outputs": [
        {
          "output_type": "display_data",
          "data": {
            "text/plain": [
              "<Figure size 640x480 with 1 Axes>"
            ],
            "image/png": "[encoded data removed]"
          },
          "metadata": {}
        }
      ],
      "source": [
        "loss, accuracy = modelnew.evaluate(X_test, y_test, verbose=False)\n",
        "\n",
        "plt.plot(histnew.history['loss'])\n",
        "plt.plot(histnew.history['val_loss'])\n",
        "plt.title('model new loss')\n",
        "plt.ylabel('loss')\n",
        "plt.xlabel('epoch')\n",
        "plt.legend(['training', 'validation'], loc='best')\n",
        "plt.show()"
      ]
    },
    {
      "cell_type": "code",
      "execution_count": 152,
      "metadata": {
        "colab": {
          "base_uri": "https://localhost:8080/",
          "height": 472
        },
        "id": "G7eT1G1nqNS1",
        "outputId": "feee25b0-588a-46f6-dd4a-7772053082b9"
      },
      "outputs": [
        {
          "output_type": "display_data",
          "data": {
            "text/plain": [
              "<Figure size 640x480 with 1 Axes>"
            ],
            "image/png": "[encoded data removed]"
          },
          "metadata": {}
        }
      ],
      "source": [
        "loss, accuracy  = modelnew.evaluate(X_test, y_test, verbose=False)\n",
        "\n",
        "plt.plot(histnew.history['accuracy'])\n",
        "plt.plot(histnew.history['val_accuracy'])\n",
        "plt.title('model new accuracy')\n",
        "plt.ylabel('accuracy')\n",
        "plt.xlabel('epoch')\n",
        "plt.legend(['training', 'validation'], loc='best')\n",
        "plt.show()"
      ]
    },
    {
      "cell_type": "markdown",
      "metadata": {
        "id": "XGVGoT5RwGOq"
      },
      "source": [
        "#Summary - Insights <br/>\n",
        "1. We can observe from our both models that model with batch normalization and dropout is performing similar in terms of misclassifications.\n",
        "3. Thus we achieved higher accuracy score of 43% to 50%.\n"
      ]
    },
    {
      "cell_type": "markdown",
      "source": [
        "***Part B - Q1 A ***- Read the .h5 file and assign to a variable."
      ],
      "metadata": {
        "id": "80oEu1X0iG6X"
      }
    },
    {
      "cell_type": "code",
      "execution_count": 153,
      "metadata": {
        "id": "XbUUKmTRwHi1"
      },
      "outputs": [],
      "source": [
        "\n",
        "# read .h5 file\n",
        "import h5py\n",
        "# this is for importing local files  in google colab--start\n",
        "# import io\n",
        "# from google.colab import files\n",
        "# uploaded = files.upload()\n",
        "\n",
        "# df = df = pd.DataFrame(np.array(h5py.File(io.BytesIO(uploaded['C:\\GL\\GL\\Deep Learning\\Project\\Autonomous_Vehicles_SVHN_single_grey1.h5']))['variable_1']))\n",
        "# --end\n",
        "# file = h5py.File('/content/drive/MyDrive/Greatlearning/Neural Network/Project/Autonomous_Vehicles_SVHN_single_grey1.h5')\n",
        "\n",
        "# d1 = np.random.random(size = (1000,20))\n",
        "# d2 = np.random.random(size = (1000,200))\n",
        "# print(d1.shape)\n",
        "# print(d2.shape)\n",
        "hf = h5py.File('/content/drive/MyDrive/Greatlearning/Neural Network/Project/Autonomous_Vehicles_SVHN_single_grey1.h5', 'r')\n",
        "# ls=list(file.keys())\n",
        "# print(ls)\n"
      ]
    },
    {
      "cell_type": "markdown",
      "source": [
        "***Part B - Q1 B ***- Print all the keys from the .h5 file."
      ],
      "metadata": {
        "id": "gCMILGzHiLv1"
      }
    },
    {
      "cell_type": "code",
      "execution_count": 154,
      "metadata": {
        "colab": {
          "base_uri": "https://localhost:8080/",
          "height": 0
        },
        "id": "gdH735w3_NTx",
        "outputId": "4cb18177-d872-4389-f50b-896dd51720bc"
      },
      "outputs": [
        {
          "output_type": "execute_result",
          "data": {
            "text/plain": [
              "<KeysViewHDF5 ['X_test', 'X_train', 'X_val', 'y_test', 'y_train', 'y_val']>"
            ]
          },
          "metadata": {},
          "execution_count": 154
        }
      ],
      "source": [
        "hf.keys()"
      ]
    },
    {
      "cell_type": "markdown",
      "source": [
        "***Part B - Q1 C*** - Split the data into X_train, X_test, Y_train, Y_test"
      ],
      "metadata": {
        "id": "IEttrskdiQrY"
      }
    },
    {
      "cell_type": "code",
      "execution_count": 155,
      "metadata": {
        "colab": {
          "base_uri": "https://localhost:8080/",
          "height": 0
        },
        "id": "e-0O5Xyq8k6t",
        "outputId": "5fdfd300-ef01-4d69-c5f2-d59b92134119"
      },
      "outputs": [
        {
          "output_type": "stream",
          "name": "stdout",
          "text": [
            "(18000, 32, 32)\n",
            "(42000, 32, 32)\n",
            "(60000, 32, 32)\n",
            "(18000,)\n",
            "(42000,)\n",
            "(60000,)\n"
          ]
        },
        {
          "output_type": "execute_result",
          "data": {
            "text/plain": [
              "33.0704"
            ]
          },
          "metadata": {},
          "execution_count": 155
        }
      ],
      "source": [
        "X_test = np.array(hf.get('X_test'))\n",
        "X_train = np.array(hf.get('X_train'))\n",
        "X_val = np.array(hf.get('X_val'))\n",
        "y_test = np.array(hf.get('y_test'))\n",
        "y_train = np.array(hf.get('y_train'))\n",
        "y_val = np.array(hf.get('y_val'))\n",
        "print(X_test.shape)\n",
        "print(X_train.shape)\n",
        "print(X_val.shape)\n",
        "print(y_test.shape)\n",
        "print(y_train.shape)\n",
        "print(y_val.shape)\n",
        "\n",
        "X_train[0][0][0]\n"
      ]
    },
    {
      "cell_type": "markdown",
      "source": [
        "***Part B - Q2 B ***- Visualise first 10 images in train data and print its corresponding labels."
      ],
      "metadata": {
        "id": "CAfGKGqcig_P"
      }
    },
    {
      "cell_type": "code",
      "execution_count": 156,
      "metadata": {
        "colab": {
          "base_uri": "https://localhost:8080/",
          "height": 4321
        },
        "id": "ef9QTCgSDG1k",
        "outputId": "970a8f74-9075-4e1e-d86c-3d221f253d47"
      },
      "outputs": [
        {
          "output_type": "display_data",
          "data": {
            "text/plain": [
              "<Figure size 640x480 with 1 Axes>"
            ],
            "image/png": "[encoded data removed]"
          },
          "metadata": {}
        },
        {
          "output_type": "stream",
          "name": "stdout",
          "text": [
            "Label:  2\n"
          ]
        },
        {
          "output_type": "display_data",
          "data": {
            "text/plain": [
              "<Figure size 640x480 with 1 Axes>"
            ],
            "image/png": "[encoded data removed]"
          },
          "metadata": {}
        },
        {
          "output_type": "stream",
          "name": "stdout",
          "text": [
            "Label:  6\n"
          ]
        },
        {
          "output_type": "display_data",
          "data": {
            "text/plain": [
              "<Figure size 640x480 with 1 Axes>"
            ],
            "image/png": "[encoded data removed]"
          },
          "metadata": {}
        },
        {
          "output_type": "stream",
          "name": "stdout",
          "text": [
            "Label:  7\n"
          ]
        },
        {
          "output_type": "display_data",
          "data": {
            "text/plain": [
              "<Figure size 640x480 with 1 Axes>"
            ],
            "image/png": "[encoded data removed]"
          },
          "metadata": {}
        },
        {
          "output_type": "stream",
          "name": "stdout",
          "text": [
            "Label:  4\n"
          ]
        },
        {
          "output_type": "display_data",
          "data": {
            "text/plain": [
              "<Figure size 640x480 with 1 Axes>"
            ],
            "image/png": "[encoded data removed]"
          },
          "metadata": {}
        },
        {
          "output_type": "stream",
          "name": "stdout",
          "text": [
            "Label:  4\n"
          ]
        },
        {
          "output_type": "display_data",
          "data": {
            "text/plain": [
              "<Figure size 640x480 with 1 Axes>"
            ],
            "image/png": "[encoded data removed]"
          },
          "metadata": {}
        },
        {
          "output_type": "stream",
          "name": "stdout",
          "text": [
            "Label:  0\n"
          ]
        },
        {
          "output_type": "display_data",
          "data": {
            "text/plain": [
              "<Figure size 640x480 with 1 Axes>"
            ],
            "image/png": "[encoded data removed]"
          },
          "metadata": {}
        },
        {
          "output_type": "stream",
          "name": "stdout",
          "text": [
            "Label:  3\n"
          ]
        },
        {
          "output_type": "display_data",
          "data": {
            "text/plain": [
              "<Figure size 640x480 with 1 Axes>"
            ],
            "image/png": "[encoded data removed]"
          },
          "metadata": {}
        },
        {
          "output_type": "stream",
          "name": "stdout",
          "text": [
            "Label:  0\n"
          ]
        },
        {
          "output_type": "display_data",
          "data": {
            "text/plain": [
              "<Figure size 640x480 with 1 Axes>"
            ],
            "image/png": "[encoded data removed]"
          },
          "metadata": {}
        },
        {
          "output_type": "stream",
          "name": "stdout",
          "text": [
            "Label:  7\n"
          ]
        },
        {
          "output_type": "display_data",
          "data": {
            "text/plain": [
              "<Figure size 640x480 with 1 Axes>"
            ],
            "image/png": "[encoded data removed]"
          },
          "metadata": {}
        },
        {
          "output_type": "stream",
          "name": "stdout",
          "text": [
            "Label:  3\n"
          ]
        }
      ],
      "source": [
        "for i in range(0,10):\n",
        "  plt.imshow(X_train[i])    # show first number in the dataset\n",
        "  plt.show()\n",
        "  print('Label: ', y_train[i])"
      ]
    },
    {
      "cell_type": "markdown",
      "source": [
        "***Part B - Q2 C*** -Reshape all the images with appropriate shape update the data in same variable."
      ],
      "metadata": {
        "id": "AREJsoisiliI"
      }
    },
    {
      "cell_type": "code",
      "execution_count": 157,
      "metadata": {
        "id": "4FimNyusGb2-"
      },
      "outputs": [],
      "source": [
        "#reshape all the Images\n",
        "\n",
        "X_train = X_train.reshape((X_train.shape[0],-1))\n",
        "X_val= X_val.reshape((X_val.shape[0],-1))\n",
        "X_test= X_test.reshape((X_test.shape[0],-1))"
      ]
    },
    {
      "cell_type": "markdown",
      "source": [
        "***Part B - Q2 D ***- Normalise the images i.e. Normalise the pixel values."
      ],
      "metadata": {
        "id": "NWtmWcgMirZ_"
      }
    },
    {
      "cell_type": "code",
      "execution_count": 158,
      "metadata": {
        "id": "CIRdPtbnK2X3"
      },
      "outputs": [],
      "source": [
        "#Normalization\n",
        "X_train = preprocessing.normalize(X_train)\n",
        "X_val = preprocessing.normalize(X_val)\n",
        "X_test = preprocessing.normalize(X_test)"
      ]
    },
    {
      "cell_type": "markdown",
      "source": [
        "***Part B - Q2 E ***- Transform Labels into format acceptable by Neural Network"
      ],
      "metadata": {
        "id": "aI9RmVtFitzM"
      }
    },
    {
      "cell_type": "code",
      "execution_count": 159,
      "metadata": {
        "id": "SXbpoVrLLViU"
      },
      "outputs": [],
      "source": [
        "#transform label into format acceptable by neural network\n",
        "y_train = to_categorical(y_train)\n",
        "y_val = to_categorical(y_val)\n",
        "y_test = to_categorical(y_test)"
      ]
    },
    {
      "cell_type": "code",
      "execution_count": 160,
      "metadata": {
        "colab": {
          "base_uri": "https://localhost:8080/",
          "height": 0
        },
        "id": "t-EQunFqLjY_",
        "outputId": "e56bf2ae-7738-4718-f135-a770ea5926c7"
      },
      "outputs": [
        {
          "output_type": "stream",
          "name": "stdout",
          "text": [
            "(42000, 1024) (60000, 1024) (18000, 1024) (42000, 10) (60000, 10) (18000, 10)\n"
          ]
        }
      ],
      "source": [
        "print(X_train.shape,X_val.shape, X_test.shape, y_train.shape, y_val.shape,y_test.shape)"
      ]
    },
    {
      "cell_type": "markdown",
      "source": [
        "***Part B - Q2 F*** - Print total Number of classes in the Dataset."
      ],
      "metadata": {
        "id": "MNyiJL_Ni1Wj"
      }
    },
    {
      "cell_type": "code",
      "execution_count": 161,
      "metadata": {
        "colab": {
          "base_uri": "https://localhost:8080/",
          "height": 0
        },
        "id": "Tx_qfYEbL_jg",
        "outputId": "63414de3-acf5-4f75-e01d-2286408621ab"
      },
      "outputs": [
        {
          "output_type": "stream",
          "name": "stdout",
          "text": [
            "Total number of classes Train 2\n",
            "Total number of classes Test 2\n"
          ]
        }
      ],
      "source": [
        "unique_labels = np.unique(y_train)\n",
        "num_classes_train = len(unique_labels)\n",
        "print('Total number of classes Train',num_classes_train)\n",
        "\n",
        "unique_labels_test = np.unique(y_test)\n",
        "num_classes_test = len(unique_labels_test)\n",
        "print('Total number of classes Test', num_classes_test)"
      ]
    },
    {
      "cell_type": "markdown",
      "source": [
        "***Part B - Q3 A*** - Design a Neural Network to train a classifier.\n",
        "***Part B - Q3 B ***- Train the classifier using previously designed Architecture (Use best suitable parameters)."
      ],
      "metadata": {
        "id": "RXPBIovfi5rO"
      }
    },
    {
      "cell_type": "code",
      "execution_count": 162,
      "metadata": {
        "colab": {
          "base_uri": "https://localhost:8080/",
          "height": 0
        },
        "id": "Lcmh-85nOSXT",
        "outputId": "1e278b52-db8f-4e92-f7ae-249ca711c906"
      },
      "outputs": [
        {
          "output_type": "stream",
          "name": "stdout",
          "text": [
            "Model: \"sequential_8\"\n",
            "_________________________________________________________________\n",
            " Layer (type)                Output Shape              Param #   \n",
            "=================================================================\n",
            " dense_40 (Dense)            (None, 100)               102500    \n",
            "                                                                 \n",
            " batch_normalization_11 (Bat  (None, 100)              400       \n",
            " chNormalization)                                                \n",
            "                                                                 \n",
            " activation_40 (Activation)  (None, 100)               0         \n",
            "                                                                 \n",
            " dropout_11 (Dropout)        (None, 100)               0         \n",
            "                                                                 \n",
            " dense_41 (Dense)            (None, 100)               10100     \n",
            "                                                                 \n",
            " batch_normalization_12 (Bat  (None, 100)              400       \n",
            " chNormalization)                                                \n",
            "                                                                 \n",
            " activation_41 (Activation)  (None, 100)               0         \n",
            "                                                                 \n",
            " dropout_12 (Dropout)        (None, 100)               0         \n",
            "                                                                 \n",
            " dense_42 (Dense)            (None, 100)               10100     \n",
            "                                                                 \n",
            " batch_normalization_13 (Bat  (None, 100)              400       \n",
            " chNormalization)                                                \n",
            "                                                                 \n",
            " activation_42 (Activation)  (None, 100)               0         \n",
            "                                                                 \n",
            " dropout_13 (Dropout)        (None, 100)               0         \n",
            "                                                                 \n",
            " dense_43 (Dense)            (None, 100)               10100     \n",
            "                                                                 \n",
            " batch_normalization_14 (Bat  (None, 100)              400       \n",
            " chNormalization)                                                \n",
            "                                                                 \n",
            " activation_43 (Activation)  (None, 100)               0         \n",
            "                                                                 \n",
            " dropout_14 (Dropout)        (None, 100)               0         \n",
            "                                                                 \n",
            " dense_44 (Dense)            (None, 10)                1010      \n",
            "                                                                 \n",
            " activation_44 (Activation)  (None, 10)                0         \n",
            "                                                                 \n",
            "=================================================================\n",
            "Total params: 135,410\n",
            "Trainable params: 134,610\n",
            "Non-trainable params: 800\n",
            "_________________________________________________________________\n"
          ]
        }
      ],
      "source": [
        "#update Existing architecture\n",
        "modellatest = Sequential()\n",
        "modellatest.add(Dense(100, input_shape=(1024,)))\n",
        "modellatest.add(BatchNormalization())\n",
        "modellatest.add(Activation('relu'))\n",
        "modellatest.add(Dropout(0.2))\n",
        "modellatest.add(Dense(100))\n",
        "modellatest.add(BatchNormalization())\n",
        "modellatest.add(Activation('relu'))\n",
        "modellatest.add(Dropout(0.2))\n",
        "modellatest.add(Dense(100))\n",
        "modellatest.add(BatchNormalization())\n",
        "modellatest.add(Activation('relu'))\n",
        "modellatest.add(Dropout(0.2))\n",
        "modellatest.add(Dense(100))\n",
        "modellatest.add(BatchNormalization())\n",
        "modellatest.add(Activation('relu'))\n",
        "modellatest.add(Dropout(0.5))\n",
        "modellatest.add(Dense(10))\n",
        "modellatest.add(Activation('softmax'))\n",
        "\n",
        "adam = optimizers.Adam(learning_rate=0.001)\n",
        "modellatest.compile(optimizer=adam, loss=losses.categorical_crossentropy, metrics=['accuracy'])\n",
        "modellatest.summary()"
      ]
    },
    {
      "cell_type": "markdown",
      "source": [
        "***Part B - Q3 C ***- Evaluate performance of the model with appropriate metrics."
      ],
      "metadata": {
        "id": "jVuyTx4bjRO0"
      }
    },
    {
      "cell_type": "code",
      "execution_count": 163,
      "metadata": {
        "colab": {
          "base_uri": "https://localhost:8080/",
          "height": 0
        },
        "id": "wzdRkK2sPIQN",
        "outputId": "13d41182-e763-4512-c381-6ee1f435480a"
      },
      "outputs": [
        {
          "output_type": "stream",
          "name": "stdout",
          "text": [
            "Epoch 1/50\n",
            "\n",
            "Epoch 1: saving model to model_weightslatest.h5\n",
            "336/336 - 6s - loss: 2.0582 - accuracy: 0.2860 - val_loss: 1.9063 - val_accuracy: 0.4135 - lr: 0.0010 - 6s/epoch - 19ms/step\n",
            "Epoch 2/50\n",
            "\n",
            "Epoch 2: saving model to model_weightslatest.h5\n",
            "336/336 - 2s - loss: 1.4232 - accuracy: 0.5258 - val_loss: 1.6355 - val_accuracy: 0.4587 - lr: 0.0010 - 2s/epoch - 7ms/step\n",
            "Epoch 3/50\n",
            "\n",
            "Epoch 3: saving model to model_weightslatest.h5\n",
            "336/336 - 2s - loss: 1.2164 - accuracy: 0.6112 - val_loss: 0.9688 - val_accuracy: 0.6950 - lr: 0.0010 - 2s/epoch - 7ms/step\n",
            "Epoch 4/50\n",
            "\n",
            "Epoch 4: saving model to model_weightslatest.h5\n",
            "336/336 - 2s - loss: 1.0991 - accuracy: 0.6569 - val_loss: 0.9511 - val_accuracy: 0.6893 - lr: 0.0010 - 2s/epoch - 7ms/step\n",
            "Epoch 5/50\n",
            "\n",
            "Epoch 5: saving model to model_weightslatest.h5\n",
            "336/336 - 3s - loss: 1.0159 - accuracy: 0.6835 - val_loss: 1.5530 - val_accuracy: 0.5525 - lr: 0.0010 - 3s/epoch - 8ms/step\n",
            "Epoch 6/50\n",
            "\n",
            "Epoch 6: saving model to model_weightslatest.h5\n",
            "336/336 - 4s - loss: 0.9533 - accuracy: 0.7061 - val_loss: 1.0720 - val_accuracy: 0.6630 - lr: 0.0010 - 4s/epoch - 11ms/step\n",
            "Epoch 7/50\n",
            "\n",
            "Epoch 7: saving model to model_weightslatest.h5\n",
            "336/336 - 2s - loss: 0.8758 - accuracy: 0.7310 - val_loss: 0.6310 - val_accuracy: 0.8088 - lr: 1.0000e-04 - 2s/epoch - 7ms/step\n",
            "Epoch 8/50\n",
            "\n",
            "Epoch 8: saving model to model_weightslatest.h5\n",
            "336/336 - 2s - loss: 0.8438 - accuracy: 0.7441 - val_loss: 0.6166 - val_accuracy: 0.8131 - lr: 1.0000e-04 - 2s/epoch - 7ms/step\n",
            "Epoch 9/50\n",
            "\n",
            "Epoch 9: saving model to model_weightslatest.h5\n",
            "336/336 - 4s - loss: 0.8337 - accuracy: 0.7465 - val_loss: 0.6076 - val_accuracy: 0.8161 - lr: 1.0000e-04 - 4s/epoch - 12ms/step\n",
            "Epoch 10/50\n",
            "\n",
            "Epoch 10: saving model to model_weightslatest.h5\n",
            "336/336 - 3s - loss: 0.8282 - accuracy: 0.7462 - val_loss: 0.6000 - val_accuracy: 0.8167 - lr: 1.0000e-04 - 3s/epoch - 10ms/step\n",
            "Epoch 11/50\n",
            "\n",
            "Epoch 11: saving model to model_weightslatest.h5\n",
            "336/336 - 3s - loss: 0.8162 - accuracy: 0.7503 - val_loss: 0.5896 - val_accuracy: 0.8181 - lr: 1.0000e-04 - 3s/epoch - 9ms/step\n",
            "Epoch 12/50\n",
            "\n",
            "Epoch 12: saving model to model_weightslatest.h5\n",
            "336/336 - 2s - loss: 0.8084 - accuracy: 0.7548 - val_loss: 0.5858 - val_accuracy: 0.8190 - lr: 1.0000e-04 - 2s/epoch - 7ms/step\n",
            "Epoch 13/50\n",
            "\n",
            "Epoch 13: saving model to model_weightslatest.h5\n",
            "336/336 - 2s - loss: 0.8102 - accuracy: 0.7547 - val_loss: 0.5846 - val_accuracy: 0.8208 - lr: 1.0000e-04 - 2s/epoch - 7ms/step\n",
            "Epoch 14/50\n",
            "\n",
            "Epoch 14: saving model to model_weightslatest.h5\n",
            "336/336 - 2s - loss: 0.8008 - accuracy: 0.7547 - val_loss: 0.5965 - val_accuracy: 0.8151 - lr: 1.0000e-04 - 2s/epoch - 7ms/step\n",
            "Epoch 15/50\n",
            "\n",
            "Epoch 15: saving model to model_weightslatest.h5\n",
            "336/336 - 3s - loss: 0.7958 - accuracy: 0.7595 - val_loss: 0.5791 - val_accuracy: 0.8211 - lr: 1.0000e-04 - 3s/epoch - 8ms/step\n",
            "Epoch 16/50\n",
            "\n",
            "Epoch 16: saving model to model_weightslatest.h5\n",
            "336/336 - 4s - loss: 0.7897 - accuracy: 0.7609 - val_loss: 0.5754 - val_accuracy: 0.8257 - lr: 1.0000e-04 - 4s/epoch - 11ms/step\n",
            "Epoch 17/50\n",
            "\n",
            "Epoch 17: saving model to model_weightslatest.h5\n",
            "336/336 - 2s - loss: 0.7748 - accuracy: 0.7625 - val_loss: 0.5739 - val_accuracy: 0.8229 - lr: 1.0000e-04 - 2s/epoch - 7ms/step\n",
            "Epoch 18/50\n",
            "\n",
            "Epoch 18: saving model to model_weightslatest.h5\n",
            "336/336 - 2s - loss: 0.7749 - accuracy: 0.7621 - val_loss: 0.5670 - val_accuracy: 0.8227 - lr: 1.0000e-04 - 2s/epoch - 6ms/step\n",
            "Epoch 19/50\n",
            "\n",
            "Epoch 19: saving model to model_weightslatest.h5\n",
            "336/336 - 2s - loss: 0.7705 - accuracy: 0.7652 - val_loss: 0.5650 - val_accuracy: 0.8258 - lr: 1.0000e-04 - 2s/epoch - 7ms/step\n",
            "Epoch 20/50\n",
            "\n",
            "Epoch 20: saving model to model_weightslatest.h5\n",
            "336/336 - 2s - loss: 0.7615 - accuracy: 0.7698 - val_loss: 0.5661 - val_accuracy: 0.8245 - lr: 1.0000e-04 - 2s/epoch - 7ms/step\n",
            "Epoch 21/50\n",
            "\n",
            "Epoch 21: saving model to model_weightslatest.h5\n",
            "336/336 - 4s - loss: 0.7567 - accuracy: 0.7697 - val_loss: 0.5563 - val_accuracy: 0.8294 - lr: 1.0000e-04 - 4s/epoch - 11ms/step\n",
            "Epoch 22/50\n",
            "\n",
            "Epoch 22: saving model to model_weightslatest.h5\n",
            "336/336 - 3s - loss: 0.7509 - accuracy: 0.7712 - val_loss: 0.5568 - val_accuracy: 0.8287 - lr: 1.0000e-04 - 3s/epoch - 8ms/step\n",
            "Epoch 23/50\n",
            "\n",
            "Epoch 23: saving model to model_weightslatest.h5\n",
            "336/336 - 2s - loss: 0.7587 - accuracy: 0.7684 - val_loss: 0.5559 - val_accuracy: 0.8289 - lr: 1.0000e-04 - 2s/epoch - 6ms/step\n",
            "Epoch 24/50\n",
            "\n",
            "Epoch 24: saving model to model_weightslatest.h5\n",
            "336/336 - 2s - loss: 0.7434 - accuracy: 0.7753 - val_loss: 0.5503 - val_accuracy: 0.8312 - lr: 1.0000e-04 - 2s/epoch - 7ms/step\n",
            "Epoch 25/50\n",
            "\n",
            "Epoch 25: saving model to model_weightslatest.h5\n",
            "336/336 - 2s - loss: 0.7351 - accuracy: 0.7755 - val_loss: 0.5469 - val_accuracy: 0.8302 - lr: 1.0000e-04 - 2s/epoch - 7ms/step\n",
            "Epoch 26/50\n",
            "\n",
            "Epoch 26: saving model to model_weightslatest.h5\n",
            "336/336 - 3s - loss: 0.7318 - accuracy: 0.7783 - val_loss: 0.5505 - val_accuracy: 0.8310 - lr: 1.0000e-04 - 3s/epoch - 9ms/step\n",
            "Epoch 27/50\n",
            "\n",
            "Epoch 27: saving model to model_weightslatest.h5\n",
            "336/336 - 3s - loss: 0.7318 - accuracy: 0.7792 - val_loss: 0.5431 - val_accuracy: 0.8305 - lr: 1.0000e-04 - 3s/epoch - 10ms/step\n",
            "Epoch 28/50\n",
            "\n",
            "Epoch 28: saving model to model_weightslatest.h5\n",
            "336/336 - 2s - loss: 0.7286 - accuracy: 0.7798 - val_loss: 0.5466 - val_accuracy: 0.8336 - lr: 1.0000e-04 - 2s/epoch - 7ms/step\n",
            "Epoch 29/50\n",
            "\n",
            "Epoch 29: saving model to model_weightslatest.h5\n",
            "336/336 - 2s - loss: 0.7282 - accuracy: 0.7750 - val_loss: 0.5443 - val_accuracy: 0.8327 - lr: 1.0000e-04 - 2s/epoch - 7ms/step\n",
            "Epoch 30/50\n",
            "\n",
            "Epoch 30: saving model to model_weightslatest.h5\n",
            "336/336 - 2s - loss: 0.7135 - accuracy: 0.7832 - val_loss: 0.5349 - val_accuracy: 0.8349 - lr: 1.0000e-05 - 2s/epoch - 7ms/step\n",
            "Epoch 31/50\n",
            "\n",
            "Epoch 31: saving model to model_weightslatest.h5\n",
            "336/336 - 2s - loss: 0.7134 - accuracy: 0.7847 - val_loss: 0.5344 - val_accuracy: 0.8352 - lr: 1.0000e-05 - 2s/epoch - 7ms/step\n",
            "Epoch 32/50\n",
            "\n",
            "Epoch 32: saving model to model_weightslatest.h5\n",
            "336/336 - 4s - loss: 0.7141 - accuracy: 0.7840 - val_loss: 0.5340 - val_accuracy: 0.8356 - lr: 1.0000e-05 - 4s/epoch - 12ms/step\n",
            "Epoch 33/50\n",
            "\n",
            "Epoch 33: saving model to model_weightslatest.h5\n",
            "336/336 - 2s - loss: 0.7152 - accuracy: 0.7817 - val_loss: 0.5326 - val_accuracy: 0.8364 - lr: 1.0000e-05 - 2s/epoch - 7ms/step\n",
            "Epoch 34/50\n",
            "\n",
            "Epoch 34: saving model to model_weightslatest.h5\n",
            "336/336 - 2s - loss: 0.7114 - accuracy: 0.7854 - val_loss: 0.5314 - val_accuracy: 0.8379 - lr: 1.0000e-05 - 2s/epoch - 7ms/step\n",
            "Epoch 35/50\n",
            "\n",
            "Epoch 35: saving model to model_weightslatest.h5\n",
            "336/336 - 3s - loss: 0.7158 - accuracy: 0.7833 - val_loss: 0.5308 - val_accuracy: 0.8382 - lr: 1.0000e-05 - 3s/epoch - 9ms/step\n",
            "Epoch 36/50\n",
            "\n",
            "Epoch 36: saving model to model_weightslatest.h5\n",
            "336/336 - 2s - loss: 0.7130 - accuracy: 0.7850 - val_loss: 0.5317 - val_accuracy: 0.8368 - lr: 1.0000e-05 - 2s/epoch - 7ms/step\n",
            "Epoch 37/50\n",
            "\n",
            "Epoch 37: saving model to model_weightslatest.h5\n",
            "336/336 - 4s - loss: 0.7175 - accuracy: 0.7821 - val_loss: 0.5303 - val_accuracy: 0.8382 - lr: 1.0000e-05 - 4s/epoch - 12ms/step\n",
            "Epoch 38/50\n",
            "\n",
            "Epoch 38: saving model to model_weightslatest.h5\n",
            "336/336 - 2s - loss: 0.7142 - accuracy: 0.7830 - val_loss: 0.5295 - val_accuracy: 0.8379 - lr: 1.0000e-05 - 2s/epoch - 7ms/step\n",
            "Epoch 39/50\n",
            "\n",
            "Epoch 39: saving model to model_weightslatest.h5\n",
            "336/336 - 2s - loss: 0.7132 - accuracy: 0.7843 - val_loss: 0.5292 - val_accuracy: 0.8389 - lr: 1.0000e-05 - 2s/epoch - 7ms/step\n",
            "Epoch 40/50\n",
            "\n",
            "Epoch 40: saving model to model_weightslatest.h5\n",
            "336/336 - 2s - loss: 0.7056 - accuracy: 0.7847 - val_loss: 0.5291 - val_accuracy: 0.8392 - lr: 1.0000e-05 - 2s/epoch - 7ms/step\n",
            "Epoch 41/50\n",
            "\n",
            "Epoch 41: saving model to model_weightslatest.h5\n",
            "336/336 - 2s - loss: 0.7060 - accuracy: 0.7853 - val_loss: 0.5290 - val_accuracy: 0.8388 - lr: 1.0000e-05 - 2s/epoch - 7ms/step\n",
            "Epoch 42/50\n",
            "\n",
            "Epoch 42: saving model to model_weightslatest.h5\n",
            "336/336 - 3s - loss: 0.7085 - accuracy: 0.7835 - val_loss: 0.5288 - val_accuracy: 0.8388 - lr: 1.0000e-05 - 3s/epoch - 10ms/step\n",
            "Epoch 43/50\n",
            "\n",
            "Epoch 43: saving model to model_weightslatest.h5\n",
            "336/336 - 3s - loss: 0.7011 - accuracy: 0.7862 - val_loss: 0.5284 - val_accuracy: 0.8389 - lr: 1.0000e-05 - 3s/epoch - 9ms/step\n",
            "Epoch 44/50\n",
            "\n",
            "Epoch 44: saving model to model_weightslatest.h5\n",
            "336/336 - 2s - loss: 0.7058 - accuracy: 0.7875 - val_loss: 0.5276 - val_accuracy: 0.8404 - lr: 1.0000e-05 - 2s/epoch - 7ms/step\n",
            "Epoch 45/50\n",
            "\n",
            "Epoch 45: saving model to model_weightslatest.h5\n",
            "336/336 - 2s - loss: 0.7134 - accuracy: 0.7839 - val_loss: 0.5279 - val_accuracy: 0.8412 - lr: 1.0000e-05 - 2s/epoch - 7ms/step\n",
            "Epoch 46/50\n",
            "\n",
            "Epoch 46: saving model to model_weightslatest.h5\n",
            "336/336 - 2s - loss: 0.7070 - accuracy: 0.7856 - val_loss: 0.5277 - val_accuracy: 0.8407 - lr: 1.0000e-05 - 2s/epoch - 7ms/step\n",
            "Epoch 47/50\n",
            "\n",
            "Epoch 47: saving model to model_weightslatest.h5\n",
            "336/336 - 3s - loss: 0.7144 - accuracy: 0.7826 - val_loss: 0.5277 - val_accuracy: 0.8411 - lr: 1.0000e-05 - 3s/epoch - 8ms/step\n",
            "Epoch 48/50\n",
            "\n",
            "Epoch 48: saving model to model_weightslatest.h5\n",
            "336/336 - 4s - loss: 0.7042 - accuracy: 0.7862 - val_loss: 0.5277 - val_accuracy: 0.8404 - lr: 1.0000e-05 - 4s/epoch - 11ms/step\n",
            "Epoch 49/50\n",
            "\n",
            "Epoch 49: saving model to model_weightslatest.h5\n",
            "336/336 - 2s - loss: 0.7070 - accuracy: 0.7871 - val_loss: 0.5272 - val_accuracy: 0.8393 - lr: 1.0000e-05 - 2s/epoch - 7ms/step\n",
            "Epoch 50/50\n",
            "\n",
            "Epoch 50: saving model to model_weightslatest.h5\n",
            "336/336 - 2s - loss: 0.7061 - accuracy: 0.7859 - val_loss: 0.5266 - val_accuracy: 0.8398 - lr: 1.0000e-05 - 2s/epoch - 7ms/step\n"
          ]
        }
      ],
      "source": [
        "checkpointlatest = ModelCheckpoint(\"model_weightslatest.h5\",monitor='val_accuracy',\n",
        "                            save_weights_only=True, mode='max',verbose=1)\n",
        "reduce_lrlatest = ReduceLROnPlateau(monitor='val_loss',factor=0.1,patience=2,min_lr=0.00001,model='auto')\n",
        "callbackslatest = [checkpointlatest,reduce_lrlatest]\n",
        "\n",
        "histlatest = modellatest.fit(X_train,y_train,validation_split=0.2, batch_size=100, epochs= 50, verbose= 2,callbacks = callbackslatest)"
      ]
    },
    {
      "cell_type": "markdown",
      "source": [
        "***Part B - Q3 D*** - Plot the training loss, validation loss vs number of epochs and training accuracy, validation accuracy vs number of epochs plot and write your observations on the same."
      ],
      "metadata": {
        "id": "QX_rsYphjAKL"
      }
    },
    {
      "cell_type": "code",
      "execution_count": 164,
      "metadata": {
        "id": "0jD8L5bXP-WB",
        "colab": {
          "base_uri": "https://localhost:8080/",
          "height": 0
        },
        "outputId": "e03339e5-83ff-4bea-9090-a63c22df0dd8"
      },
      "outputs": [
        {
          "output_type": "stream",
          "name": "stdout",
          "text": [
            "563/563 [==============================] - 1s 2ms/step - loss: 0.5347 - accuracy: 0.8362\n"
          ]
        }
      ],
      "source": [
        "resultsLatest = modellatest.evaluate(X_test,y_test)"
      ]
    },
    {
      "cell_type": "code",
      "source": [
        "print('Test Accuracy', resultsLatest[1])"
      ],
      "metadata": {
        "colab": {
          "base_uri": "https://localhost:8080/",
          "height": 0
        },
        "id": "oWosRvw_j9ms",
        "outputId": "3de430ab-13b4-482d-f5a4-a786f2acc3f3"
      },
      "execution_count": 165,
      "outputs": [
        {
          "output_type": "stream",
          "name": "stdout",
          "text": [
            "Test Accuracy 0.8361666798591614\n"
          ]
        }
      ]
    },
    {
      "cell_type": "code",
      "source": [
        "loss, accuracy = modellatest.evaluate(X_test, y_test, verbose=False)\n",
        "\n",
        "plt.plot(histlatest.history['loss'])\n",
        "plt.plot(histlatest.history['val_loss'])\n",
        "plt.title('model latest loss')\n",
        "plt.ylabel('loss')\n",
        "plt.xlabel('epoch')\n",
        "plt.legend(['training', 'validation'], loc='best')\n",
        "plt.show()"
      ],
      "metadata": {
        "colab": {
          "base_uri": "https://localhost:8080/",
          "height": 472
        },
        "id": "gDOF6K6BkGVC",
        "outputId": "b79e453c-8bfc-4d59-e599-23b934f0da58"
      },
      "execution_count": 166,
      "outputs": [
        {
          "output_type": "display_data",
          "data": {
            "text/plain": [
              "<Figure size 640x480 with 1 Axes>"
            ],
            "image/png": "[encoded data removed]"
          },
          "metadata": {}
        }
      ]
    },
    {
      "cell_type": "code",
      "source": [
        "loss, accuracy = modellatest.evaluate(X_test, y_test, verbose=False)\n",
        "\n",
        "plt.plot(histlatest.history['accuracy'])\n",
        "plt.plot(histlatest.history['val_accuracy'])\n",
        "plt.title('model latest accuracy')\n",
        "plt.ylabel('accuracy')\n",
        "plt.xlabel('epoch')\n",
        "plt.legend(['training', 'validation'], loc='best')\n",
        "plt.show()"
      ],
      "metadata": {
        "colab": {
          "base_uri": "https://localhost:8080/",
          "height": 472
        },
        "id": "lxgEiDUHkkqa",
        "outputId": "f59634bd-f91f-4290-8b84-d4cbdcf544b9"
      },
      "execution_count": 167,
      "outputs": [
        {
          "output_type": "display_data",
          "data": {
            "text/plain": [
              "<Figure size 640x480 with 1 Axes>"
            ],
            "image/png": "[encoded data removed]"
          },
          "metadata": {}
        }
      ]
    },
    {
      "cell_type": "markdown",
      "source": [
        "***#Summary - Insights <br/>***\n",
        "1. We can observe that after fine tunning the hyper parameters the validation loss is going down and almost constant at 0.3 and training is at 0.6\n",
        "3. Also we achieved higher accuracy score (84%) for test rather than training not overfitting."
      ],
      "metadata": {
        "id": "ran-09mvmFa0"
      }
    },
    {
      "cell_type": "code",
      "source": [],
      "metadata": {
        "id": "O2ABI22cmUqr"
      },
      "execution_count": 167,
      "outputs": []
    }
  ],
  "metadata": {
    "colab": {
      "provenance": [],
      "authorship_tag": "ABX9TyPAgmyFrJaygy042/0GLijg",
      "include_colab_link": true
    },
    "kernelspec": {
      "display_name": "Python 3",
      "name": "python3"
    },
    "language_info": {
      "name": "python"
    }
  },
  "nbformat": 4,
  "nbformat_minor": 0
}